{
  "nbformat": 4,
  "nbformat_minor": 0,
  "metadata": {
    "colab": {
      "name": "2021-06-03 5팀 한슬기.ipynb",
      "provenance": [],
      "collapsed_sections": []
    },
    "kernelspec": {
      "name": "python3",
      "display_name": "Python 3"
    },
    "language_info": {
      "name": "python"
    }
  },
  "cells": [
    {
      "cell_type": "markdown",
      "metadata": {
        "id": "iVISheexEn3B"
      },
      "source": [
        "# 복습예제 > DT스쿨 최저 연령은? \n",
        "\n"
      ]
    },
    {
      "cell_type": "code",
      "metadata": {
        "colab": {
          "base_uri": "https://localhost:8080/"
        },
        "id": "q5Hd66IqFwi9",
        "outputId": "ea2dd131-ff57-447f-a5a7-0fc68af781f9"
      },
      "source": [
        "DT스쿨 최저 연령은? \n",
        "alist = {\n",
        "    '1팀':[25,39,29,27,22], \n",
        "    '2팀':[27,24,25,29,25], \n",
        "    '3팀':[25,26,25,23,23,28,27],\n",
        "    '4팀':[21,23,30],\n",
        "    '5팀':[26,41,24,31,21,34,27],\n",
        "    '6팀':[21,29,27,25,25]}\n",
        "age_li = []\n",
        "for i,v in alist.items():\n",
        "    print(f'{i}의 최저연령은{min(v)} 최고연령은 {max(v)}')\n",
        "    age_li.extend(v)                                          #list 채로 list 의 항목더하기 \n",
        "    print(age_li)\n",
        "print(f'DT스쿨 최저연령은{min(age_li)} 최고연령은 {max(age_li)}')"
      ],
      "execution_count": null,
      "outputs": [
        {
          "output_type": "stream",
          "text": [
            "1팀의 최저연령은22 최고연령은 39\n",
            "[25, 39, 29, 27, 22]\n",
            "2팀의 최저연령은24 최고연령은 29\n",
            "[25, 39, 29, 27, 22, 27, 24, 25, 29, 25]\n",
            "3팀의 최저연령은23 최고연령은 28\n",
            "[25, 39, 29, 27, 22, 27, 24, 25, 29, 25, 25, 26, 25, 23, 23, 28, 27]\n",
            "4팀의 최저연령은21 최고연령은 30\n",
            "[25, 39, 29, 27, 22, 27, 24, 25, 29, 25, 25, 26, 25, 23, 23, 28, 27, 21, 23, 30]\n",
            "5팀의 최저연령은21 최고연령은 41\n",
            "[25, 39, 29, 27, 22, 27, 24, 25, 29, 25, 25, 26, 25, 23, 23, 28, 27, 21, 23, 30, 26, 41, 24, 31, 21, 34, 27]\n",
            "6팀의 최저연령은21 최고연령은 29\n",
            "[25, 39, 29, 27, 22, 27, 24, 25, 29, 25, 25, 26, 25, 23, 23, 28, 27, 21, 23, 30, 26, 41, 24, 31, 21, 34, 27, 21, 29, 27, 25, 25]\n",
            "DT스쿨 최저연령은21 최고연령은 41\n"
          ],
          "name": "stdout"
        }
      ]
    },
    {
      "cell_type": "code",
      "metadata": {
        "colab": {
          "base_uri": "https://localhost:8080/",
          "height": 415
        },
        "id": "SQlITMJpGfa1",
        "outputId": "946f0f0f-4bea-470e-81a0-12815031c3df"
      },
      "source": [
        "#평균나이 구하기 \n",
        "alist = {\n",
        "    '1팀':[25,39,29,27,22], \n",
        "    '2팀':[27,24,25,29,25], \n",
        "    '3팀':[25,26,25,23,23,28,27],\n",
        "    '4팀':[21,23,30],\n",
        "    '5팀':[26,41,24,31,21,34,27],\n",
        "    '6팀':[21,29,27,25,25]}\n",
        "age_li = []\n",
        "for i,v in alist.items():\n",
        "    print(f'{i}의 최저연령은{min(v)} 최고연령은 {max(v)}')\n",
        "    age_li.extend(v)                                          #list 채로 list 의 항목더하기 \n",
        "    #print(age_li)\n",
        "print(f'DT스쿨 평균나이는 {sum(age_li)/count(age_li)}')"
      ],
      "execution_count": null,
      "outputs": [
        {
          "output_type": "stream",
          "text": [
            "1팀의 최저연령은22 최고연령은 39\n",
            "[25, 39, 29, 27, 22]\n",
            "2팀의 최저연령은24 최고연령은 29\n",
            "[25, 39, 29, 27, 22, 27, 24, 25, 29, 25]\n",
            "3팀의 최저연령은23 최고연령은 28\n",
            "[25, 39, 29, 27, 22, 27, 24, 25, 29, 25, 25, 26, 25, 23, 23, 28, 27]\n",
            "4팀의 최저연령은21 최고연령은 30\n",
            "[25, 39, 29, 27, 22, 27, 24, 25, 29, 25, 25, 26, 25, 23, 23, 28, 27, 21, 23, 30]\n",
            "5팀의 최저연령은21 최고연령은 41\n",
            "[25, 39, 29, 27, 22, 27, 24, 25, 29, 25, 25, 26, 25, 23, 23, 28, 27, 21, 23, 30, 26, 41, 24, 31, 21, 34, 27]\n",
            "6팀의 최저연령은21 최고연령은 29\n",
            "[25, 39, 29, 27, 22, 27, 24, 25, 29, 25, 25, 26, 25, 23, 23, 28, 27, 21, 23, 30, 26, 41, 24, 31, 21, 34, 27, 21, 29, 27, 25, 25]\n"
          ],
          "name": "stdout"
        },
        {
          "output_type": "error",
          "ename": "NameError",
          "evalue": "ignored",
          "traceback": [
            "\u001b[0;31m---------------------------------------------------------------------------\u001b[0m",
            "\u001b[0;31mNameError\u001b[0m                                 Traceback (most recent call last)",
            "\u001b[0;32m<ipython-input-3-103c9cfe8ba0>\u001b[0m in \u001b[0;36m<module>\u001b[0;34m()\u001b[0m\n\u001b[1;32m     12\u001b[0m     \u001b[0mage_li\u001b[0m\u001b[0;34m.\u001b[0m\u001b[0mextend\u001b[0m\u001b[0;34m(\u001b[0m\u001b[0mv\u001b[0m\u001b[0;34m)\u001b[0m                                          \u001b[0;31m#list 채로 list 의 항목더하기\u001b[0m\u001b[0;34m\u001b[0m\u001b[0;34m\u001b[0m\u001b[0m\n\u001b[1;32m     13\u001b[0m     \u001b[0mprint\u001b[0m\u001b[0;34m(\u001b[0m\u001b[0mage_li\u001b[0m\u001b[0;34m)\u001b[0m\u001b[0;34m\u001b[0m\u001b[0;34m\u001b[0m\u001b[0m\n\u001b[0;32m---> 14\u001b[0;31m \u001b[0mprint\u001b[0m\u001b[0;34m(\u001b[0m\u001b[0;34mf'DT스쿨 평균나이는 {sum(age_li)/count(age_li)}'\u001b[0m\u001b[0;34m)\u001b[0m\u001b[0;34m\u001b[0m\u001b[0;34m\u001b[0m\u001b[0m\n\u001b[0m",
            "\u001b[0;31mNameError\u001b[0m: name 'count' is not defined"
          ]
        }
      ]
    },
    {
      "cell_type": "markdown",
      "metadata": {
        "id": "RTX_f5JlHZ47"
      },
      "source": [
        "##예제 > 우리팀 캐릭터 사전 만들기 \n",
        "\n",
        "\n",
        "\n",
        "*   닉네임에 따른 사전 \n",
        "*   사전값은 리스트로 \n",
        "*   닉네임을 입력받습니다 input('닉네임을 입력하세요')\n",
        "*   닉네임과 값을 구성하여 팀원 소개글 출력 ( ex. 가고싶은곳 ,하고싶은것, 즐거운일 ) \n",
        "*   캐릭터 사전 출력함수로 만들고 random.choice()로 출력하게 수정 \n",
        "\n",
        "\n",
        "\n",
        "\n",
        "\n"
      ]
    },
    {
      "cell_type": "code",
      "metadata": {
        "id": "OMepjkwEHU1J"
      },
      "source": [
        "# 예제 > 우리팀 캐릭터 사전 만들기 \n",
        "import random \n",
        "team_may = {}\n",
        "b_list\n",
        "print()\n",
        "print()"
      ],
      "execution_count": null,
      "outputs": []
    },
    {
      "cell_type": "code",
      "metadata": {
        "colab": {
          "base_uri": "https://localhost:8080/"
        },
        "id": "PmdZsMrbL4wd",
        "outputId": "70456702-5c22-4fd1-d905-1a241cf0c2f2"
      },
      "source": [
        "team_may = {'수루키':['한슬기','댄스','곱창','발리'],\n",
        "            '갓디':['신동열','자전거','돈까스','아이슬란드'],\n",
        "            '너구리':['이영이', '잠', '양파,감자', '뉴욕'],\n",
        "            '매운오돌뼈':['박정선','책 읽기' '쫄면','크로아티아'],\n",
        "            '뚜뚜':['김은수' , '노래 듣기' , '떡볶이' , '유럽'],\n",
        "            '데이지':['노현정','유튜브보기','매번다름','이스탄불']}\n",
        "\n",
        "nick_name = input('누가 궁금한가요? : ')\n",
        "#if nick_name != team_dic :\n",
        "    #print('우리팀원이 아니에요')\n",
        "\n",
        "b_list = team_may[nick_name]\n",
        "\n",
        "print(f'오월의 오팀 {nick_name}님을 소개합니다.')\n",
        "print(f'{nick_name}님의 이름은 {b_list[0]}.')\n",
        "print(f'취미는 {b_list[1]}.')\n",
        "print(f'{nick_name}님이 좋아하는 음식은 {b_list[2]} 이고,')\n",
        "print(f'여행가고 싶은 곳은 {b_list[3]} 입니다!.')\n",
        "print(f'우리 오월의 오팀 사랑스런 {nick_name}님을 환영해주세용♡')"
      ],
      "execution_count": null,
      "outputs": [
        {
          "output_type": "stream",
          "text": [
            "누가 궁금한가요? : 너구리\n",
            "오월의 오팀 너구리님을 소개합니다.\n",
            "너구리님의 이름은 이영이.\n",
            "취미는 잠.\n",
            "너구리님이 좋아하는 음식은 양파,감자 이고,\n",
            "여행가고 싶은 곳은 뉴욕 입니다!.\n",
            "우리 오월의 오팀 사랑스런 너구리님을 환영해주세용♡\n"
          ],
          "name": "stdout"
        }
      ]
    },
    {
      "cell_type": "markdown",
      "metadata": {
        "id": "dTNQI6rWITH_"
      },
      "source": [
        "# 문자열 나누기 \n",
        "> 문자열.split() -> 일정한 규직으로 잘라서 리스트로 만들어주는 함수 "
      ]
    },
    {
      "cell_type": "code",
      "metadata": {
        "colab": {
          "base_uri": "https://localhost:8080/",
          "height": 70
        },
        "id": "U9B3j1vCIa2k",
        "outputId": "3aaad0b1-d0ff-4463-c232-3f68674c0b67"
      },
      "source": [
        "text = '문자열 나누기'\n",
        "a = text.split(sep=' ')        # 공백을 기준으로 나누기(sep)\n",
        "print(a)\n",
        "print('='*50)\n",
        "\n",
        "# '구분자'.join(리스트) 로 요소 하나하나를 합쳐서 하나의 문자열로 반환가능 \n",
        "text1 = ' '.join(a)\n",
        "text1"
      ],
      "execution_count": null,
      "outputs": [
        {
          "output_type": "stream",
          "text": [
            "['문자열', '나누기']\n",
            "==================================================\n"
          ],
          "name": "stdout"
        },
        {
          "output_type": "execute_result",
          "data": {
            "application/vnd.google.colaboratory.intrinsic+json": {
              "type": "string"
            },
            "text/plain": [
              "'문자열 나누기'"
            ]
          },
          "metadata": {
            "tags": []
          },
          "execution_count": 7
        }
      ]
    },
    {
      "cell_type": "markdown",
      "metadata": {
        "id": "bEldbcykJQ0G"
      },
      "source": [
        "# 딕셔너리 값 가져오기 \n",
        " > 딕셔너리 값이 리스트,딕셔너리 일때 "
      ]
    },
    {
      "cell_type": "code",
      "metadata": {
        "colab": {
          "base_uri": "https://localhost:8080/"
        },
        "id": "Rcs7a338Jaek",
        "outputId": "253335a2-fb94-40a8-9b71-d7bfd69771f4"
      },
      "source": [
        "alist = {\n",
        "    '키1':['값1','값2'],\n",
        "    '키2':['값3', '값4'],\n",
        "    '키3':['값5','값6'],\n",
        "    '키4':{'키':100}}\n",
        "print(list(alist['키1']))\n",
        "print(alist['키4']['키'])"
      ],
      "execution_count": null,
      "outputs": [
        {
          "output_type": "stream",
          "text": [
            "['값1', '값2']\n",
            "100\n"
          ],
          "name": "stdout"
        }
      ]
    },
    {
      "cell_type": "markdown",
      "metadata": {
        "id": "_-K9bCTCSutK"
      },
      "source": [
        "# 얼굴인식 \n",
        "> open API : open Application Programming Interface 의 약어 "
      ]
    },
    {
      "cell_type": "markdown",
      "metadata": {
        "id": "AYEsMOZpXZ0d"
      },
      "source": [
        "# 팀과제 ( 네이버 오픈 API ) "
      ]
    },
    {
      "cell_type": "code",
      "metadata": {
        "colab": {
          "base_uri": "https://localhost:8080/"
        },
        "id": "2f9MQ02mXnv7",
        "outputId": "e0f1c7aa-44e3-4668-b8d9-d95599fce213"
      },
      "source": [
        "from google.colab import drive\n",
        "drive.mount('/content/drive')"
      ],
      "execution_count": null,
      "outputs": [
        {
          "output_type": "stream",
          "text": [
            "Drive already mounted at /content/drive; to attempt to forcibly remount, call drive.mount(\"/content/drive\", force_remount=True).\n"
          ],
          "name": "stdout"
        }
      ]
    },
    {
      "cell_type": "code",
      "metadata": {
        "id": "z39EZQEbXYWb",
        "colab": {
          "base_uri": "https://localhost:8080/"
        },
        "outputId": "6665fa52-ce0c-42ec-dd8f-3b89af0696aa"
      },
      "source": [
        "import os\n",
        "import sys\n",
        "import requests\n",
        "\n",
        "\n",
        "# 등록된 client_id, client_secret 정보를 입력합니다.\n",
        "client_id = \"yBwPM0bgoQTE7MzqhxmM\"\n",
        "client_secret = \"2HiUBFvSq_\"\n",
        "\n",
        "# 얼굴 사진을 통한 나이 추정을 위해서는 아래 url을 사용합니다. (face: 얼굴 분석, celebrity: 닮은 유명인 찾기)\n",
        "#url = \"https://openapi.naver.com/v1/vision/face\" \n",
        "url = \"https://openapi.naver.com/v1/vision/celebrity\" \n",
        "\n",
        "# 분석할 이미지의 파일명을 입력합니다./\n",
        "files = {'image': open('/content/drive/MyDrive/한슬기 DT4.jpg', 'rb')}\n",
        "\n",
        "# API 입력 설정\n",
        "headers = {'X-Naver-Client-Id': client_id, 'X-Naver-Client-Secret': client_secret }\n",
        "\n",
        "# API 사용\n",
        "response = requests.post(url,  files=files, headers=headers)\n",
        "rescode = response.status_code\n",
        "\n",
        "if (rescode==200):\n",
        "    # 결과물 출력\n",
        "    print (response.text)\n",
        "else:\n",
        "    print(\"Error Code:\" + str(rescode))"
      ],
      "execution_count": null,
      "outputs": [
        {
          "output_type": "stream",
          "text": [
            "{\"info\":{\"size\":{\"width\":600,\"height\":799},\"faceCount\":1},\"faces\":[{\"celebrity\":{\"value\":\"에리카\",\"confidence\":0.390864}}]}\n"
          ],
          "name": "stdout"
        }
      ]
    },
    {
      "cell_type": "code",
      "metadata": {
        "colab": {
          "base_uri": "https://localhost:8080/"
        },
        "id": "dRT5wNT3nl9k",
        "outputId": "e77e2dda-ea0d-414e-d058-519cd71dce58"
      },
      "source": [
        "# 네이버 API를 이용한 팀 평균나이 / 닮은꼴 연예인 찾기 \n",
        "\n",
        "alist = [23.2,26.25,21.6,22.7,19.6]\n",
        "blist = [0.85,0.64,0.83,0.84,0.54,0.69,0.91]    \n",
        "\n",
        "print(f'5월의 오조의 평균 연령은 {round(sum(alist)/len(alist),1)}입니다')\n",
        "print(f'5월의 오조의 평균 정확도는 {round(sum(blist)/len(blist),1)} 입니다') \n",
        "\n",
        "print('='*50)\n",
        "\n",
        "team_may = {'한슬기':['23.3','0.85','에리카'],\n",
        "            '신동열':['26.25','0.64','윤시윤'],\n",
        "            '이영이':['21.6',' 0.83','예인'],\n",
        "            '박정선':['22.6','0.54','구혜선'],\n",
        "            '김은수':['19.6','0.84','박보영'],\n",
        "            '노현정':['27.9','0.69', '문지인'],\n",
        "            '박제희':['27.9','0.91','강승현']}\n",
        "\n",
        "nick_name = input('누가 궁금한가요? : ')\n",
        "\n",
        "b_list = team_may[nick_name]\n",
        "\n",
        "print(f'오월의 오조 {nick_name}님의 평균나이는 {b_list[0]}이며, 정확도는 {b_list[1]}')\n",
        "print(f'{nick_name}님의 닮은꼴 연예인은? : {b_list[2]} ')"
      ],
      "execution_count": null,
      "outputs": [
        {
          "output_type": "stream",
          "text": [
            "5팀의 평균 연령은 22.7입니다\n",
            "5팀의 평균 정확도는 0.8 입니다\n",
            "==================================================\n",
            "누가 궁금한가요? : 노현정\n",
            "오월의 오팀 노현정님의 평균나이는 27.9이며, 정확도는 0.69\n",
            "노현정님의 닮은꼴 연예인은? : 문지인 \n"
          ],
          "name": "stdout"
        }
      ]
    }
  ]
}