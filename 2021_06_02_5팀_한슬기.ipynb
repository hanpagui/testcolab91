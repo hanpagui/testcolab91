{
  "nbformat": 4,
  "nbformat_minor": 0,
  "metadata": {
    "colab": {
      "name": "2021-06-02 5팀 한슬기.ipynb",
      "provenance": [],
      "collapsed_sections": [],
      "toc_visible": true
    },
    "kernelspec": {
      "name": "python3",
      "display_name": "Python 3"
    },
    "language_info": {
      "name": "python"
    }
  },
  "cells": [
    {
      "cell_type": "markdown",
      "metadata": {
        "id": "CU2m4YFI58yK"
      },
      "source": [
        "# 함수 \n",
        "> 리스트는 [ ] 로 묶지만 튜플은 ( )로 묶음 \n",
        "\n",
        "\n",
        "1.   내장함수 : 기본적으로 내장된 ( import 불필요, print(),input())\n",
        "2.   외장함수 random.randint()\n",
        "3.    사용자 정의 함수 \n",
        "\n",
        "\n"
      ]
    },
    {
      "cell_type": "code",
      "metadata": {
        "colab": {
          "base_uri": "https://localhost:8080/"
        },
        "id": "MEXJSy166lRJ",
        "outputId": "ef1bbbce-2ce4-4a33-eeb9-f04c6d94119f"
      },
      "source": [
        "# 파이썬 내장함수 목록 조회 \n",
        "dir(__builtins__)"
      ],
      "execution_count": null,
      "outputs": [
        {
          "output_type": "execute_result",
          "data": {
            "text/plain": [
              "['ArithmeticError',\n",
              " 'AssertionError',\n",
              " 'AttributeError',\n",
              " 'BaseException',\n",
              " 'BlockingIOError',\n",
              " 'BrokenPipeError',\n",
              " 'BufferError',\n",
              " 'BytesWarning',\n",
              " 'ChildProcessError',\n",
              " 'ConnectionAbortedError',\n",
              " 'ConnectionError',\n",
              " 'ConnectionRefusedError',\n",
              " 'ConnectionResetError',\n",
              " 'DeprecationWarning',\n",
              " 'EOFError',\n",
              " 'Ellipsis',\n",
              " 'EnvironmentError',\n",
              " 'Exception',\n",
              " 'False',\n",
              " 'FileExistsError',\n",
              " 'FileNotFoundError',\n",
              " 'FloatingPointError',\n",
              " 'FutureWarning',\n",
              " 'GeneratorExit',\n",
              " 'IOError',\n",
              " 'ImportError',\n",
              " 'ImportWarning',\n",
              " 'IndentationError',\n",
              " 'IndexError',\n",
              " 'InterruptedError',\n",
              " 'IsADirectoryError',\n",
              " 'KeyError',\n",
              " 'KeyboardInterrupt',\n",
              " 'LookupError',\n",
              " 'MemoryError',\n",
              " 'ModuleNotFoundError',\n",
              " 'NameError',\n",
              " 'None',\n",
              " 'NotADirectoryError',\n",
              " 'NotImplemented',\n",
              " 'NotImplementedError',\n",
              " 'OSError',\n",
              " 'OverflowError',\n",
              " 'PendingDeprecationWarning',\n",
              " 'PermissionError',\n",
              " 'ProcessLookupError',\n",
              " 'RecursionError',\n",
              " 'ReferenceError',\n",
              " 'ResourceWarning',\n",
              " 'RuntimeError',\n",
              " 'RuntimeWarning',\n",
              " 'StopAsyncIteration',\n",
              " 'StopIteration',\n",
              " 'SyntaxError',\n",
              " 'SyntaxWarning',\n",
              " 'SystemError',\n",
              " 'SystemExit',\n",
              " 'TabError',\n",
              " 'TimeoutError',\n",
              " 'True',\n",
              " 'TypeError',\n",
              " 'UnboundLocalError',\n",
              " 'UnicodeDecodeError',\n",
              " 'UnicodeEncodeError',\n",
              " 'UnicodeError',\n",
              " 'UnicodeTranslateError',\n",
              " 'UnicodeWarning',\n",
              " 'UserWarning',\n",
              " 'ValueError',\n",
              " 'Warning',\n",
              " 'ZeroDivisionError',\n",
              " '__IPYTHON__',\n",
              " '__build_class__',\n",
              " '__debug__',\n",
              " '__doc__',\n",
              " '__import__',\n",
              " '__loader__',\n",
              " '__name__',\n",
              " '__package__',\n",
              " '__spec__',\n",
              " 'abs',\n",
              " 'all',\n",
              " 'any',\n",
              " 'ascii',\n",
              " 'bin',\n",
              " 'bool',\n",
              " 'breakpoint',\n",
              " 'bytearray',\n",
              " 'bytes',\n",
              " 'callable',\n",
              " 'chr',\n",
              " 'classmethod',\n",
              " 'compile',\n",
              " 'complex',\n",
              " 'copyright',\n",
              " 'credits',\n",
              " 'delattr',\n",
              " 'dict',\n",
              " 'dir',\n",
              " 'display',\n",
              " 'divmod',\n",
              " 'dreload',\n",
              " 'enumerate',\n",
              " 'eval',\n",
              " 'exec',\n",
              " 'execfile',\n",
              " 'filter',\n",
              " 'float',\n",
              " 'format',\n",
              " 'frozenset',\n",
              " 'get_ipython',\n",
              " 'getattr',\n",
              " 'globals',\n",
              " 'hasattr',\n",
              " 'hash',\n",
              " 'help',\n",
              " 'hex',\n",
              " 'id',\n",
              " 'input',\n",
              " 'int',\n",
              " 'isinstance',\n",
              " 'issubclass',\n",
              " 'iter',\n",
              " 'len',\n",
              " 'license',\n",
              " 'list',\n",
              " 'locals',\n",
              " 'map',\n",
              " 'max',\n",
              " 'memoryview',\n",
              " 'min',\n",
              " 'next',\n",
              " 'object',\n",
              " 'oct',\n",
              " 'open',\n",
              " 'ord',\n",
              " 'pow',\n",
              " 'print',\n",
              " 'property',\n",
              " 'range',\n",
              " 'repr',\n",
              " 'reversed',\n",
              " 'round',\n",
              " 'runfile',\n",
              " 'set',\n",
              " 'setattr',\n",
              " 'slice',\n",
              " 'sorted',\n",
              " 'staticmethod',\n",
              " 'str',\n",
              " 'sum',\n",
              " 'super',\n",
              " 'tuple',\n",
              " 'type',\n",
              " 'vars',\n",
              " 'zip']"
            ]
          },
          "metadata": {
            "tags": []
          },
          "execution_count": 1
        }
      ]
    },
    {
      "cell_type": "markdown",
      "metadata": {
        "id": "sDFoWZng581j"
      },
      "source": [
        "# import 모듈 가져오기 \n",
        "> 모듈 import 방법 \n",
        "\n",
        "\n",
        "*   import 모듈명 \n",
        "*   import 모듈명 as 별칭 : 별칭으로 모듈 불러오기\n",
        "*   from 패키지명 import 모듈명 : 원하는 모듈만 특정해서 불러오기\n",
        "*   from 모듈명 import 함수명 : 원하는 함수만 특정해서 불러오기 \n",
        "\n",
        "\n",
        "\n"
      ]
    },
    {
      "cell_type": "code",
      "metadata": {
        "id": "ChgGdA1u9nI7"
      },
      "source": [
        "from random import\n",
        "list_data = [1,2,3,4,5]\n",
        "choice"
      ],
      "execution_count": null,
      "outputs": []
    },
    {
      "cell_type": "code",
      "metadata": {
        "colab": {
          "base_uri": "https://localhost:8080/"
        },
        "id": "AD2jWfj79Tpg",
        "outputId": "5570b478-8f7c-48f2-a50a-4a266aaeee52"
      },
      "source": [
        "import calendar               #calendar 모듈 import\n",
        "print(calendar.month(2021,5))"
      ],
      "execution_count": null,
      "outputs": [
        {
          "output_type": "stream",
          "text": [
            "      May 2021\n",
            "Mo Tu We Th Fr Sa Su\n",
            "                1  2\n",
            " 3  4  5  6  7  8  9\n",
            "10 11 12 13 14 15 16\n",
            "17 18 19 20 21 22 23\n",
            "24 25 26 27 28 29 30\n",
            "31\n",
            "\n"
          ],
          "name": "stdout"
        }
      ]
    },
    {
      "cell_type": "code",
      "metadata": {
        "colab": {
          "base_uri": "https://localhost:8080/"
        },
        "id": "Wu-g-dTl9e0r",
        "outputId": "120198b7-48d7-47f6-8fcc-fdc8a047ada6"
      },
      "source": [
        "from calendar import month\n",
        "print(month(2021,6))"
      ],
      "execution_count": null,
      "outputs": [
        {
          "output_type": "stream",
          "text": [
            "     June 2021\n",
            "Mo Tu We Th Fr Sa Su\n",
            "    1  2  3  4  5  6\n",
            " 7  8  9 10 11 12 13\n",
            "14 15 16 17 18 19 20\n",
            "21 22 23 24 25 26 27\n",
            "28 29 30\n",
            "\n"
          ],
          "name": "stdout"
        }
      ]
    },
    {
      "cell_type": "markdown",
      "metadata": {
        "id": "EyIJiaDi59Uk"
      },
      "source": [
        "# 모듈사용하기 "
      ]
    },
    {
      "cell_type": "code",
      "metadata": {
        "colab": {
          "base_uri": "https://localhost:8080/"
        },
        "id": "KY16F9LH-kf2",
        "outputId": "77f65e2b-3fe8-4988-8370-c0523d9cc741"
      },
      "source": [
        "#경과한 날짜 수 확인 : 임의의 날짜에서 다른 임의 날짜까지 경과일 계산 \n",
        "import datetime\n",
        "d1 = datetime.date.today()\n",
        "d2 = datetime.date(1991,11,23)\n",
        "print(d1-d2)"
      ],
      "execution_count": null,
      "outputs": [
        {
          "output_type": "stream",
          "text": [
            "10784 days, 0:00:00\n"
          ],
          "name": "stdout"
        }
      ]
    },
    {
      "cell_type": "code",
      "metadata": {
        "colab": {
          "base_uri": "https://localhost:8080/"
        },
        "id": "AhEX6J0m_Hmd",
        "outputId": "c38b7ad2-00e7-4019-e5e4-7351d7adeacb"
      },
      "source": [
        "import random\n",
        "a = random.random() # Random float x, 0.0 <= x < 1.0\n",
        "\n",
        "#2개의 숫자 사이의 랜덤 실수를 리턴\n",
        "b = random.uniform(1, 10) # Random float x, 1.0 <= x < 10.0\n",
        "\n",
        "\n",
        "#2개의 숫자 사이의 랜덤 정수를 리턴합니다. (2번째 인자로 넘어온 정수도 범위에 포함시킴)\n",
        "c =random.randint(1, 10) # Integer from 1 to 10, endpoints included\n",
        "\n",
        "\n",
        "#range(start, stop, step) 함수로 만들어지는 정수 중에 하나를 랜덤하게 리턴합니다.\n",
        "d=random.randrange(0, 101, 2)  # Even integer from 0 to 100\n",
        "\n",
        "#choice() 함수 랜덤하게 하나의 원소를 선택합니다.\n",
        "e = random.choice('abcdefghij') # Choose a random element \n",
        "f = random.choice(['가위','바위','보'])\n",
        "import random\n",
        "a = ['가위','바위','보']\n",
        "random.shuffle(a)\n",
        "print(a)\n",
        "\n",
        "print(a,b,c,d,e,f)"
      ],
      "execution_count": null,
      "outputs": [
        {
          "output_type": "stream",
          "text": [
            "['보', '바위', '가위']\n",
            "['보', '바위', '가위'] 9.361467563651278 8 96 j 바위\n"
          ],
          "name": "stdout"
        }
      ]
    },
    {
      "cell_type": "markdown",
      "metadata": {
        "id": "GjdMZzwFBHqt"
      },
      "source": [
        "# 사용자 정의 함수 \n",
        "Def 함수명(매개변수):함수 기능 return 반환값\n",
        "\n",
        "\n",
        "*   def num1(a,b):c=a+b return c \n",
        "\n",
        "#매개변수 \n",
        "> 인수를 받아서 함수에 입력으로 전달된 값을 받는 변수 \n",
        "\n",
        "> 함수명은 변수명과 동일한 규칙으로 \n",
        "> 반환값은 없거나 1개 ( 반환값이 여러개인 경우 하나의 튜플로 묶어서 반환됨 ) \n",
        "\n",
        "#함수명(인수)\n",
        "> 함수를 호출할때 넣는 값 \n",
        "\n",
        "> 함수 이름뒤에 매개변수에 전달할 인수를 기술 \n",
        "> 반환값이 있을때는 변수로 받거나 수식내에 기술 "
      ]
    },
    {
      "cell_type": "code",
      "metadata": {
        "colab": {
          "base_uri": "https://localhost:8080/"
        },
        "id": "tH3owNiFBG6Q",
        "outputId": "299390de-eece-4f91-be40-de1b48c07aca"
      },
      "source": [
        "#환영메세지 출력하기 \n",
        "def say_hi():\n",
        "    print('할룽')\n",
        "    print('Welcome to Python')\n",
        "    print('Have a good time :)')\n",
        "say_hi()"
      ],
      "execution_count": null,
      "outputs": [
        {
          "output_type": "stream",
          "text": [
            "할룽\n",
            "Welcome to Python\n",
            "Have a good time :)\n"
          ],
          "name": "stdout"
        }
      ]
    },
    {
      "cell_type": "code",
      "metadata": {
        "colab": {
          "base_uri": "https://localhost:8080/"
        },
        "id": "XNunWXxSC1mx",
        "outputId": "bb2dd82c-2082-4281-d41e-d2f0107dc6a8"
      },
      "source": [
        "# 환영메세지 출력하기2 \n",
        "# > 이름을 인수로 전달하여 출력 \n",
        "def say_hi(name,name2):\n",
        "    print(f'안녕하세요 {name,name2}님')\n",
        "    print('Welcome to Python')\n",
        "    print('Have a good time :)')\n",
        "\n",
        "say_hi('수루키','루키')"
      ],
      "execution_count": null,
      "outputs": [
        {
          "output_type": "stream",
          "text": [
            "안녕하세요 ('수루키', '루키')님\n",
            "Welcome to Python\n",
            "Have a good time :)\n"
          ],
          "name": "stdout"
        }
      ]
    },
    {
      "cell_type": "code",
      "metadata": {
        "colab": {
          "base_uri": "https://localhost:8080/"
        },
        "id": "ApA6CeAtGg49",
        "outputId": "ca2e3505-dd54-4fbd-8711-c5e9678293ca"
      },
      "source": [
        "#원의 넓이를 구하는 함수 만들기 (매개변수1개, 변환값1개 )\n",
        "# 반지름을 보내면 원의 넓이를 계산하여 반환 \n",
        "def circle_area(radius):\n",
        "    area = 3.14 * radius ** 2\n",
        "    return area\n",
        "circle_area(5)"
      ],
      "execution_count": null,
      "outputs": [
        {
          "output_type": "execute_result",
          "data": {
            "text/plain": [
              "78.5"
            ]
          },
          "metadata": {
            "tags": []
          },
          "execution_count": 15
        }
      ]
    },
    {
      "cell_type": "code",
      "metadata": {
        "colab": {
          "base_uri": "https://localhost:8080/"
        },
        "id": "PrGncZYYHZIY",
        "outputId": "bee41086-1d44-4102-e77c-4524cefd71b9"
      },
      "source": [
        "# 두 수를 더하여 반환하는 함수 ( 매개변수2개, 반환값1개 )\n",
        "def get_plus ( num1, num2):\n",
        "    result = num1 + num2\n",
        "    return result\n",
        "\n",
        "get_plus(2,3)"
      ],
      "execution_count": null,
      "outputs": [
        {
          "output_type": "execute_result",
          "data": {
            "text/plain": [
              "5"
            ]
          },
          "metadata": {
            "tags": []
          },
          "execution_count": 16
        }
      ]
    },
    {
      "cell_type": "code",
      "metadata": {
        "colab": {
          "base_uri": "https://localhost:8080/"
        },
        "id": "P_zqL0UYHnXK",
        "outputId": "f7aeb085-c5b6-4dbf-9521-a4ebfdcc71b9"
      },
      "source": [
        "def get_min ( num1, num2):\n",
        "    result = num2 - num1\n",
        "    return result\n",
        "\n",
        "get_min(6,3)"
      ],
      "execution_count": null,
      "outputs": [
        {
          "output_type": "execute_result",
          "data": {
            "text/plain": [
              "-3"
            ]
          },
          "metadata": {
            "tags": []
          },
          "execution_count": 17
        }
      ]
    },
    {
      "cell_type": "code",
      "metadata": {
        "colab": {
          "base_uri": "https://localhost:8080/"
        },
        "id": "eWR3jzhfH3gk",
        "outputId": "169bdfc0-5024-4898-f220-14a9beefc15e"
      },
      "source": [
        "# 덧셈과 뺄셈 모두 반환 하는 값 \n",
        "def get_plus_min ( num1, num2):\n",
        "    plus = num2 + num1\n",
        "    min = num2 - num1\n",
        "    return plus,min\n",
        "\n",
        "get_plus_min(3,6)"
      ],
      "execution_count": null,
      "outputs": [
        {
          "output_type": "execute_result",
          "data": {
            "text/plain": [
              "(9, 3)"
            ]
          },
          "metadata": {
            "tags": []
          },
          "execution_count": 18
        }
      ]
    },
    {
      "cell_type": "code",
      "metadata": {
        "colab": {
          "base_uri": "https://localhost:8080/"
        },
        "id": "P6rNkGWzIwar",
        "outputId": "de79ebf6-49ce-42cc-92a8-2fc3feaa1040"
      },
      "source": [
        "def get_multi (num1,num2):\n",
        "    result = num1 * num2\n",
        "    return result\n",
        "\n",
        "get_multi(1,2)"
      ],
      "execution_count": null,
      "outputs": [
        {
          "output_type": "execute_result",
          "data": {
            "text/plain": [
              "2"
            ]
          },
          "metadata": {
            "tags": []
          },
          "execution_count": 20
        }
      ]
    },
    {
      "cell_type": "code",
      "metadata": {
        "colab": {
          "base_uri": "https://localhost:8080/"
        },
        "id": "B0AtMFUnJMG_",
        "outputId": "24c99c28-e3dc-4c7d-9bb0-060e79f3ed01"
      },
      "source": [
        "def get_divd (num1,num2):\n",
        "    \n",
        "    if num2 == 0:\n",
        "        print('0이 아닌 정수를 입력하세요')\n",
        "    else:\n",
        "        result = num1 / num2\n",
        "        return result\n",
        "\n",
        "get_divd(6,0)"
      ],
      "execution_count": null,
      "outputs": [
        {
          "output_type": "stream",
          "text": [
            "0이 아닌 정수를 입력하세요\n"
          ],
          "name": "stdout"
        }
      ]
    },
    {
      "cell_type": "markdown",
      "metadata": {
        "id": "3Y-wvrdtL6JO"
      },
      "source": [
        "# 지역변수, 전역변수 \n",
        "> 지역변수 : 함수 내에서 생성한 변수\n",
        " \n",
        "> 전역변수 : 함수 밖에서 생성한 변수 "
      ]
    },
    {
      "cell_type": "code",
      "metadata": {
        "colab": {
          "base_uri": "https://localhost:8080/",
          "height": 134
        },
        "id": "3OOAi5PcMKE8",
        "outputId": "590e1c80-80df-48a9-cb3c-9793a7188dfa"
      },
      "source": [
        "# 함수내에서 만든 변수이므로 밖에서 사용 x, 에러 \n",
        "def get_plus_min ( num1, num2):\n",
        "    plus = num2 + num1\n",
        "    min = num2 - num1\n",
        "    return plus,min\n",
        "\n",
        "get_plus_min(plus,min))"
      ],
      "execution_count": null,
      "outputs": [
        {
          "output_type": "error",
          "ename": "SyntaxError",
          "evalue": "ignored",
          "traceback": [
            "\u001b[0;36m  File \u001b[0;32m\"<ipython-input-30-96a7cbd28604>\"\u001b[0;36m, line \u001b[0;32m7\u001b[0m\n\u001b[0;31m    get_plus_min(plus,min))\u001b[0m\n\u001b[0m                          ^\u001b[0m\n\u001b[0;31mSyntaxError\u001b[0m\u001b[0;31m:\u001b[0m invalid syntax\n"
          ]
        }
      ]
    },
    {
      "cell_type": "code",
      "metadata": {
        "colab": {
          "base_uri": "https://localhost:8080/"
        },
        "id": "dkgT1I0PMXHo",
        "outputId": "36d670ed-7c4e-4359-91ba-ac6f4e149db1"
      },
      "source": [
        "# 전역변수 - 함수밖에서 만든 변수를 함수 내에서 사용 가능 \n",
        "def circle_area():\n",
        "    area = 3.14 * radius ** 2\n",
        "    return area\n",
        "radius = float(input('반지름:'))     # radius 값을 받았기 때문에 \n",
        "circle_area()"
      ],
      "execution_count": null,
      "outputs": [
        {
          "output_type": "stream",
          "text": [
            "반지름:5\n"
          ],
          "name": "stdout"
        },
        {
          "output_type": "execute_result",
          "data": {
            "text/plain": [
              "78.5"
            ]
          },
          "metadata": {
            "tags": []
          },
          "execution_count": 31
        }
      ]
    },
    {
      "cell_type": "markdown",
      "metadata": {
        "id": "BHPAdFTnNAHS"
      },
      "source": [
        "# 함수 안에서 전역변수 값 변경하기 \n",
        "> global 키워드 사용 "
      ]
    },
    {
      "cell_type": "code",
      "metadata": {
        "colab": {
          "base_uri": "https://localhost:8080/"
        },
        "id": "sMB6RqfHNL_q",
        "outputId": "86dd75bf-3619-4f4f-9045-c60429b96641"
      },
      "source": [
        "def circle_area():\n",
        "    area = 3.14 * radius ** 2\n",
        "    return area\n",
        "area = 0                        #초기값 설정 \n",
        "radius = float(input('반지름:'))\n",
        "print('원의 넓이:',circle_area())\n",
        "print(area) #변경"
      ],
      "execution_count": null,
      "outputs": [
        {
          "output_type": "stream",
          "text": [
            "반지름:5\n",
            "원의 넓이: 78.5\n",
            "0\n"
          ],
          "name": "stdout"
        }
      ]
    },
    {
      "cell_type": "code",
      "metadata": {
        "colab": {
          "base_uri": "https://localhost:8080/"
        },
        "id": "OvUKk_7DM1Ww",
        "outputId": "ced3b6fc-76d9-48e5-fab5-de1961cc7489"
      },
      "source": [
        "# global 키워드 사용 -> 전역변수 직접 사용 \n",
        "def circle_area():\n",
        "    global area\n",
        "    area = 3.14 * radius ** 2\n",
        "    return area\n",
        "area = 0\n",
        "radius = float(input('반지름:'))\n",
        "print('원의 넓이:',circle_area())\n",
        "print(area) #변경"
      ],
      "execution_count": null,
      "outputs": [
        {
          "output_type": "stream",
          "text": [
            "반지름:5\n",
            "원의 넓이: 78.5\n",
            "78.5\n"
          ],
          "name": "stdout"
        }
      ]
    },
    {
      "cell_type": "code",
      "metadata": {
        "colab": {
          "base_uri": "https://localhost:8080/",
          "height": 204
        },
        "id": "lXg8ToWdObQ7",
        "outputId": "a2179342-7140-42cc-9608-fe3ac6d75f56"
      },
      "source": [
        "def get_plus_min ( num1, num2):\n",
        "    global plus\n",
        "    global min\n",
        "    plus = num2 + num1\n",
        "    min = num2 - num1\n",
        "    return plus,min\n",
        "\n",
        "print(plus)"
      ],
      "execution_count": null,
      "outputs": [
        {
          "output_type": "error",
          "ename": "NameError",
          "evalue": "ignored",
          "traceback": [
            "\u001b[0;31m---------------------------------------------------------------------------\u001b[0m",
            "\u001b[0;31mNameError\u001b[0m                                 Traceback (most recent call last)",
            "\u001b[0;32m<ipython-input-34-ed4763e8290a>\u001b[0m in \u001b[0;36m<module>\u001b[0;34m()\u001b[0m\n\u001b[1;32m      6\u001b[0m     \u001b[0;32mreturn\u001b[0m \u001b[0mplus\u001b[0m\u001b[0;34m,\u001b[0m\u001b[0mmin\u001b[0m\u001b[0;34m\u001b[0m\u001b[0;34m\u001b[0m\u001b[0m\n\u001b[1;32m      7\u001b[0m \u001b[0;34m\u001b[0m\u001b[0m\n\u001b[0;32m----> 8\u001b[0;31m \u001b[0mprint\u001b[0m\u001b[0;34m(\u001b[0m\u001b[0mplus\u001b[0m\u001b[0;34m)\u001b[0m\u001b[0;34m\u001b[0m\u001b[0;34m\u001b[0m\u001b[0m\n\u001b[0m",
            "\u001b[0;31mNameError\u001b[0m: name 'plus' is not defined"
          ]
        }
      ]
    },
    {
      "cell_type": "markdown",
      "metadata": {
        "id": "Ok_dds-gOssg"
      },
      "source": [
        "# 디폴트 인수 \n",
        "> 매개변수의 개수와 인수의 개수가 다르면 에러발생 \n",
        "> 인수가 부족한경우 기본값을 사용할 수 있다"
      ]
    },
    {
      "cell_type": "code",
      "metadata": {
        "colab": {
          "base_uri": "https://localhost:8080/"
        },
        "id": "WOLXfRM4Ozx4",
        "outputId": "2ca16197-e2d1-4964-e682-99f415bd3068"
      },
      "source": [
        "def hi(name='친구',msg='잘 지내니'):\n",
        "    print(f'안녕 {name}야, {msg}')\n",
        "hi('수루키')"
      ],
      "execution_count": null,
      "outputs": [
        {
          "output_type": "stream",
          "text": [
            "안녕수루키야, 잘 지내니\n"
          ],
          "name": "stdout"
        }
      ]
    },
    {
      "cell_type": "code",
      "metadata": {
        "colab": {
          "base_uri": "https://localhost:8080/"
        },
        "id": "QbbOyMdnPs9P",
        "outputId": "3b320dd3-366d-4e10-a085-146403f5d303"
      },
      "source": [
        "def hi(name='친구',msg='잘 지내니'):\n",
        "    print(f'안녕 {name}야, {msg}')\n",
        "hi()"
      ],
      "execution_count": null,
      "outputs": [
        {
          "output_type": "stream",
          "text": [
            "안녕 친구야, 잘 지내니\n"
          ],
          "name": "stdout"
        }
      ]
    },
    {
      "cell_type": "code",
      "metadata": {
        "colab": {
          "base_uri": "https://localhost:8080/"
        },
        "id": "2w2Hj965PhWF",
        "outputId": "9a1647e6-7b18-4231-f3aa-06d2279fcb52"
      },
      "source": [
        "# 첫번째 인수는 지울 수 X\n",
        "def hi(name='친구',msg='잘 지내니'):\n",
        "    print(f'안녕 {name}야, {msg}')\n",
        "hi('잘지내니')"
      ],
      "execution_count": null,
      "outputs": [
        {
          "output_type": "stream",
          "text": [
            "안녕 잘지내니야, 잘 지내니\n"
          ],
          "name": "stdout"
        }
      ]
    },
    {
      "cell_type": "markdown",
      "metadata": {
        "id": "VjK3I5vYP9eH"
      },
      "source": [
        "# 키워드 인수\n",
        "> 위치인수와 키워드인수 혼합사용 가능 but 위치인수를 먼저 사용해야 함 "
      ]
    },
    {
      "cell_type": "code",
      "metadata": {
        "colab": {
          "base_uri": "https://localhost:8080/"
        },
        "id": "DZEnh9X7QG58",
        "outputId": "a2859388-90b4-44e5-dc1e-b912015e4d3d"
      },
      "source": [
        "def calc(a,b,c):\n",
        "    result = a+b-c\n",
        "    return result\n",
        "\n",
        "calc(1,b=5,c=3)"
      ],
      "execution_count": null,
      "outputs": [
        {
          "output_type": "execute_result",
          "data": {
            "text/plain": [
              "3"
            ]
          },
          "metadata": {
            "tags": []
          },
          "execution_count": 43
        }
      ]
    },
    {
      "cell_type": "code",
      "metadata": {
        "colab": {
          "base_uri": "https://localhost:8080/",
          "height": 134
        },
        "id": "WD5at93hQUmz",
        "outputId": "e65c535f-5e48-443f-f97a-4396a2ec39bb"
      },
      "source": [
        "def calc(a,b,c):\n",
        "    result = a+b-c\n",
        "    return result\n",
        "\n",
        "calc(a=1,5,3)           #키워드 인수를 먼저쓰면 에러( 첫번째 인수 무조건 입력과 비슷)"
      ],
      "execution_count": null,
      "outputs": [
        {
          "output_type": "error",
          "ename": "SyntaxError",
          "evalue": "ignored",
          "traceback": [
            "\u001b[0;36m  File \u001b[0;32m\"<ipython-input-44-d0a33a80514f>\"\u001b[0;36m, line \u001b[0;32m5\u001b[0m\n\u001b[0;31m    calc(a=1,5,3)\u001b[0m\n\u001b[0m            ^\u001b[0m\n\u001b[0;31mSyntaxError\u001b[0m\u001b[0;31m:\u001b[0m positional argument follows keyword argument\n"
          ]
        }
      ]
    },
    {
      "cell_type": "code",
      "metadata": {
        "colab": {
          "base_uri": "https://localhost:8080/",
          "height": 134
        },
        "id": "ZAYeCCPVQipa",
        "outputId": "95ebb526-6731-453a-d758-b807a571ff8d"
      },
      "source": [
        "def calc(a,b,c):\n",
        "    result = a+b-c\n",
        "    return result\n",
        "\n",
        "calc(a=1,5,c=3)"
      ],
      "execution_count": null,
      "outputs": [
        {
          "output_type": "error",
          "ename": "SyntaxError",
          "evalue": "ignored",
          "traceback": [
            "\u001b[0;36m  File \u001b[0;32m\"<ipython-input-46-b927a7eacbdc>\"\u001b[0;36m, line \u001b[0;32m5\u001b[0m\n\u001b[0;31m    calc(a=1,5,c=3)\u001b[0m\n\u001b[0m            ^\u001b[0m\n\u001b[0;31mSyntaxError\u001b[0m\u001b[0;31m:\u001b[0m positional argument follows keyword argument\n"
          ]
        }
      ]
    },
    {
      "cell_type": "code",
      "metadata": {
        "colab": {
          "base_uri": "https://localhost:8080/"
        },
        "id": "5ARE6hvjQw3l",
        "outputId": "45c5e3ee-eaa9-4cb7-8845-4e49098c6bf3"
      },
      "source": [
        "def calc(a,b,c):\n",
        "    result = a+b-c\n",
        "    return result\n",
        "\n",
        "calc(1,5,3)"
      ],
      "execution_count": null,
      "outputs": [
        {
          "output_type": "execute_result",
          "data": {
            "text/plain": [
              "3"
            ]
          },
          "metadata": {
            "tags": []
          },
          "execution_count": 47
        }
      ]
    },
    {
      "cell_type": "code",
      "metadata": {
        "colab": {
          "base_uri": "https://localhost:8080/"
        },
        "id": "dvFNW2OLQ4vI",
        "outputId": "0107c7d9-d4f2-41c3-9f3e-204522b3d7e6"
      },
      "source": [
        "def calc(a,b,c):\n",
        "    result = a+b-c\n",
        "    return result\n",
        "\n",
        "calc(b=1,c=5,a=3)"
      ],
      "execution_count": null,
      "outputs": [
        {
          "output_type": "execute_result",
          "data": {
            "text/plain": [
              "-1"
            ]
          },
          "metadata": {
            "tags": []
          },
          "execution_count": 48
        }
      ]
    },
    {
      "cell_type": "code",
      "metadata": {
        "colab": {
          "base_uri": "https://localhost:8080/"
        },
        "id": "uf-FyFakUIED",
        "outputId": "b2a6f303-12e1-457f-a08b-65265108108f"
      },
      "source": [
        "def calc(a,b,c):\n",
        "    result = a+b-c\n",
        "    return result\n",
        "\n",
        "calc(1,c=5,b=3)"
      ],
      "execution_count": null,
      "outputs": [
        {
          "output_type": "execute_result",
          "data": {
            "text/plain": [
              "-1"
            ]
          },
          "metadata": {
            "tags": []
          },
          "execution_count": 49
        }
      ]
    },
    {
      "cell_type": "markdown",
      "metadata": {
        "id": "2ciZzLmsUniz"
      },
      "source": [
        "# 매개변수 * a ( * -> 아스타리스크 ) \n",
        "> 매개변수의 개수가 가변적일때 사용 \n",
        "> * => '튜플 데이터로 받겠습니다 ' 라고 선언 "
      ]
    },
    {
      "cell_type": "code",
      "metadata": {
        "colab": {
          "base_uri": "https://localhost:8080/"
        },
        "id": "R_QPgaocUwpt",
        "outputId": "49a63179-2092-4d02-885a-62de77667ff7"
      },
      "source": [
        "def average(*a):                #a는 튜플 데이터형 \n",
        "    avrg = sum(a)/len(a)\n",
        "    return avrg \n",
        "\n",
        "print(average(1,2,3))\n",
        "print(average(1,2,3,4,5))"
      ],
      "execution_count": null,
      "outputs": [
        {
          "output_type": "stream",
          "text": [
            "2.0\n",
            "3.0\n"
          ],
          "name": "stdout"
        }
      ]
    },
    {
      "cell_type": "code",
      "metadata": {
        "colab": {
          "base_uri": "https://localhost:8080/"
        },
        "id": "K4sInLQJWYHZ",
        "outputId": "391166ce-b6a2-455e-e8cb-b34a14e7f122"
      },
      "source": [
        "#예제 > 소수여부 판단하는 함수 작성 \n",
        "# > 소수는 1과 자기자신만으로 떨어지는 양의 정수 .\n",
        "def is_prime(number):\n",
        "    if number < 2:\n",
        "        return False \n",
        "\n",
        "    for a in range(2,number):\n",
        "        if number%a == 0:\n",
        "            return False\n",
        "\n",
        "    return True\n",
        "\n",
        "i_number = int(input('숫자: '))\n",
        "if is_prime(i_number):\n",
        "    print('소수입니다')\n",
        "else:\n",
        "    print('소수가 아닙니다')"
      ],
      "execution_count": null,
      "outputs": [
        {
          "output_type": "stream",
          "text": [
            "숫자: 99\n",
            "소수가 아닙니다\n"
          ],
          "name": "stdout"
        }
      ]
    },
    {
      "cell_type": "code",
      "metadata": {
        "colab": {
          "base_uri": "https://localhost:8080/"
        },
        "id": "JUQ3oh7waDS3",
        "outputId": "6d6c7a15-8a86-439c-b019-8214369d010f"
      },
      "source": [
        "#팀 예제 (짝수,홀수 찾기 문제 )\n",
        "def a_even(number):\n",
        "    if number % 2 == 0:\n",
        "        return True\n",
        "    else:\n",
        "        return False\n",
        "\n",
        "i_number = int(input('숫자: '))\n",
        "if a_even(i_number):\n",
        "    print('짝수 입니다.')\n",
        "else:\n",
        "    print('홀수 입니다')"
      ],
      "execution_count": null,
      "outputs": [
        {
          "output_type": "stream",
          "text": [
            "숫자: 8\n",
            "짝수 입니다.\n"
          ],
          "name": "stdout"
        }
      ]
    },
    {
      "cell_type": "markdown",
      "metadata": {
        "id": "BpU3gJ1IiFvD"
      },
      "source": [
        "# 예제 > 오늘의 급식메뉴 \n",
        "> 몇개의 메뉴가 선택될 지 모른다. (매개변수 *a를 이용 )\n",
        "\n",
        "> 오늘의 메뉴를 출력하는 부분을 함수로 만들어 프로그램 작성 "
      ]
    },
    {
      "cell_type": "code",
      "metadata": {
        "colab": {
          "base_uri": "https://localhost:8080/"
        },
        "id": "MzcEDKELiJwD",
        "outputId": "bde74975-3469-43ce-be5b-228a32ddafe3"
      },
      "source": [
        "def today_menu(*food):\n",
        "    \n",
        "    for i in food:\n",
        "        print(i)\n",
        "\n",
        "print('== 오늘의 메뉴 ==')\n",
        "today_menu('김밥','떡볶이','오뎅')"
      ],
      "execution_count": null,
      "outputs": [
        {
          "output_type": "stream",
          "text": [
            "== 오늘의 메뉴 ==\n",
            "김밥\n",
            "떡볶이\n",
            "오뎅\n"
          ],
          "name": "stdout"
        }
      ]
    },
    {
      "cell_type": "code",
      "metadata": {
        "colab": {
          "base_uri": "https://localhost:8080/"
        },
        "id": "B1frj-iclUJL",
        "outputId": "d2f7fea5-a4c4-42c6-cdb0-2139a55651f6"
      },
      "source": [
        "def today_menu(*food):\n",
        "    \n",
        "    for i in range(len(food)):\n",
        "        print(food[i])\n",
        "\n",
        "print('== 오늘의 메뉴 ==')\n",
        "today_menu('김밥','부대찌개','쫄면','곱창')"
      ],
      "execution_count": null,
      "outputs": [
        {
          "output_type": "stream",
          "text": [
            "== 오늘의 메뉴 ==\n",
            "김밥\n",
            "부대찌개\n",
            "쫄면\n",
            "곱창\n"
          ],
          "name": "stdout"
        }
      ]
    },
    {
      "cell_type": "code",
      "metadata": {
        "colab": {
          "base_uri": "https://localhost:8080/"
        },
        "id": "MAhRq8Oalsxv",
        "outputId": "e5f827bf-e957-46cd-b1d1-6f775f9053e7"
      },
      "source": [
        "def today_menu(*food):\n",
        "    \n",
        "    for i in range(len(food)):\n",
        "        print(food[i])\n",
        "\n",
        "print('== 오늘의 메뉴 ==')\n",
        "today_menu('쫄면','곱창')"
      ],
      "execution_count": null,
      "outputs": [
        {
          "output_type": "stream",
          "text": [
            "== 오늘의 메뉴 ==\n",
            "쫄면\n",
            "곱창\n"
          ],
          "name": "stdout"
        }
      ]
    },
    {
      "cell_type": "markdown",
      "metadata": {
        "id": "7YXutd9UmA9R"
      },
      "source": [
        "# lambda()함수 \n",
        "> 한줄로 간단하게 만들어주는 함수 "
      ]
    },
    {
      "cell_type": "code",
      "metadata": {
        "colab": {
          "base_uri": "https://localhost:8080/"
        },
        "id": "WwJ0gnNDmGo-",
        "outputId": "603a7252-6fc7-4b78-b122-38228bac72cb"
      },
      "source": [
        "def plus(n1,n2):\n",
        "    result = n1+n2\n",
        "    return result\n",
        "print(plus(1,2))\n",
        "\n",
        "print('='*30)\n",
        "#lambda 함수 사용 \n",
        "plus = lambda n1,n2:n1+n2\n",
        "print(plus(1,2))"
      ],
      "execution_count": null,
      "outputs": [
        {
          "output_type": "stream",
          "text": [
            "3\n",
            "==============================\n",
            "3\n"
          ],
          "name": "stdout"
        }
      ]
    },
    {
      "cell_type": "markdown",
      "metadata": {
        "id": "HWFNgyQlnrpG"
      },
      "source": [
        "# map()함수 \n",
        "> 두개의 인자를 갖는 함수, 순서가 있는 자료형 \n",
        "> 첫번째 인자는 함수명, 두번째 인자 순서가 있는 자료형 "
      ]
    },
    {
      "cell_type": "code",
      "metadata": {
        "colab": {
          "base_uri": "https://localhost:8080/"
        },
        "id": "JVdG7pO-n18W",
        "outputId": "2d6c9743-1eba-4fd8-b104-c6fdfe0abaa7"
      },
      "source": [
        "# for 문을 돌리지 않아도 list 순서가있는 값을 정렬할 수 있음 \n",
        "a = [1,2,3,4,5]\n",
        "plus10 = lambda n:n+10\n",
        "\n",
        "a = list(map(plus10,a))\n",
        "print(a)"
      ],
      "execution_count": null,
      "outputs": [
        {
          "output_type": "stream",
          "text": [
            "[11, 12, 13, 14, 15]\n"
          ],
          "name": "stdout"
        }
      ]
    },
    {
      "cell_type": "code",
      "metadata": {
        "colab": {
          "base_uri": "https://localhost:8080/"
        },
        "id": "3m_qLUr2oMK9",
        "outputId": "56e52ccd-504d-4d12-bb70-b82466fbd1a6"
      },
      "source": [
        "#list 안에 lambda 를 넣어서 사용 ㅇ \n",
        "a = [1,2,3,4,5]\n",
        "\n",
        "a = list(map(lambda n:n+10,a))\n",
        "print(a)"
      ],
      "execution_count": null,
      "outputs": [
        {
          "output_type": "stream",
          "text": [
            "[11, 12, 13, 14, 15]\n"
          ],
          "name": "stdout"
        }
      ]
    },
    {
      "cell_type": "markdown",
      "metadata": {
        "id": "z-7eFGWRpZrf"
      },
      "source": [
        "# 재귀함수 \n",
        "> 함수 안에서 함수 자기자신을 호출하는 방식 \n",
        "\n",
        "> 일반상황은 사용 많지 X, 알고리즘 구현시 유용 \n"
      ]
    },
    {
      "cell_type": "code",
      "metadata": {
        "colab": {
          "base_uri": "https://localhost:8080/"
        },
        "id": "JqLCvDrnppsV",
        "outputId": "daa1828b-23a8-4014-8ee0-f9087d9ddd7b"
      },
      "source": [
        "def hello(count):\n",
        "    if count == 0:       # 종료조건을 만듦. count가 0이면 다시 hello 호출하지 않고 끝냄 \n",
        "        return \n",
        "\n",
        "    print('hello,world', count)\n",
        "\n",
        "    count -= 1\n",
        "    hello(count)\n",
        "\n",
        "hello(5) "
      ],
      "execution_count": null,
      "outputs": [
        {
          "output_type": "stream",
          "text": [
            "hello,world 5\n",
            "hello,world 4\n",
            "hello,world 3\n",
            "hello,world 2\n",
            "hello,world 1\n"
          ],
          "name": "stdout"
        }
      ]
    },
    {
      "cell_type": "code",
      "metadata": {
        "colab": {
          "base_uri": "https://localhost:8080/"
        },
        "id": "3PTQuRayqlKV",
        "outputId": "d95a061c-c999-4dd7-ee28-cf1c5a6ae460"
      },
      "source": [
        "#factorial n! = n*(n-1)*(n-2)*..*(n-(n-1))\n",
        "#5! = 5*4*3*2*1\n",
        "def factorial(n):\n",
        "    if n ==1:                 #n이 1일때 \n",
        "        return 1              # 1을 반환 후 재귀호출 끝냄 \n",
        "    print(n)\n",
        "    return n * factorial(n -1)      #n과 팩토리얼 함수에 n-1을 넣어서 변환 \n",
        "\n",
        "print(factorial(5))"
      ],
      "execution_count": null,
      "outputs": [
        {
          "output_type": "stream",
          "text": [
            "120\n"
          ],
          "name": "stdout"
        }
      ]
    },
    {
      "cell_type": "markdown",
      "metadata": {
        "id": "lg0s2FACsYZx"
      },
      "source": [
        "# 딕셔너리 예제 > 편의점 재고관리 시스템 \n",
        "> 초기재고는 삼각김밥 10개, 커피우유 10개 \n",
        "\n",
        "\n",
        "\n",
        "*  재고등록\n",
        "> 엔터를 입력할때까지 반복하여 물건이름과 개수 입력\n",
        "> 물건건이름이 존재하지 않으면 추가, 존재하면 물건개수\n",
        "\n",
        "\n",
        "\n",
        "*   제품판매 : 물건개수만큼 재고 소진 \n",
        "*   재고확인 : 물건이름 입력시 재고 출력 \n",
        "\n",
        "\n",
        "\n"
      ]
    },
    {
      "cell_type": "code",
      "metadata": {
        "id": "bKxHjhvJsbRV",
        "colab": {
          "base_uri": "https://localhost:8080/",
          "height": 292
        },
        "outputId": "191ebd07-5d20-413e-e0a3-bcb3e5ba1b35"
      },
      "source": [
        "#0을 입력할때까지 메뉴를 입력받는 \n",
        "#step1 전체구조\n",
        "#재고 등록,판매,확인 함수를 추가하도록 합니다\n",
        "while True:\n",
        "    print('    ===================재고관리 시스템 ======================     ')\n",
        "    print('    1: 재고등록  2: 제품판매    3:재고 확인   0: 프로그램 종료    ')\n",
        "\n",
        "    menu = input('메뉴를 입력하세요:')\n",
        "    if menu == '0': #문자열\n",
        "        break\n",
        "    elif menu == '1': \n",
        "        add_product()\n",
        "    elif menu == '2': \n",
        "        sel_product()\n",
        "    elif menu == '3': \n",
        "        search_product()\n",
        "\n",
        "#2. 재고 등록\n",
        "inventory = {'삼각김밥':10,'커피우유':10} #초기재고\n",
        "def a_product():\n",
        "    while True:\n",
        "        product = input('상품명:')\n",
        "        if product == '':\n",
        "            break\n",
        "        num = int(input('갯수:'))\n",
        "        if product in inventory.keys():\n",
        "            inventory[product] += num\n",
        "        else:\n",
        "            inventory[product] = num\n",
        "    print('-'*50)\n",
        "    for key,value in inventory.items():\n",
        "        print(key,':',value)\n",
        "a_product()    \n",
        "\n",
        "#3. 제품판매 \n",
        "def sel_product():\n",
        "    while True:\n",
        "        product = input('상품명:')\n",
        "        if product == '':\n",
        "            break\n",
        "        # 추가 조건문\n",
        "        if inventory.get(product,'미등록') == '미등록':\n",
        "            print('등록되지 않은 상품입니다')\n",
        "            break \n",
        "        # if product not in inventory.keys():\n",
        "        #     print('등록되지 않은 상품입니다')\n",
        "        #     break \n",
        "        num = int(input('갯수:'))\n",
        "        if inventory[product] < num:\n",
        "            print('재고가 부족합니다')\n",
        "        else:\n",
        "            inventory[product] -= num\n",
        "            print(inventory[product],'개 남았습니다')\n",
        "\n",
        "#4. 재고확인 \n",
        "\n",
        "def search_product():\n",
        "    while True:\n",
        "        product = input('상품명:')\n",
        "        if product == '':\n",
        "            break\n",
        "        print(inventory.get(product,'등록되지 않은 상품'))\n",
        "\n",
        "    "
      ],
      "execution_count": 6,
      "outputs": [
        {
          "output_type": "stream",
          "text": [
            "    ===================재고관리 시스템 ======================     \n",
            "    1: 재고등록  2: 제품판매    3:재고 확인   0: 프로그램 종료    \n",
            "메뉴를 입력하세요:3\n"
          ],
          "name": "stdout"
        },
        {
          "output_type": "error",
          "ename": "NameError",
          "evalue": "ignored",
          "traceback": [
            "\u001b[0;31m---------------------------------------------------------------------------\u001b[0m",
            "\u001b[0;31mNameError\u001b[0m                                 Traceback (most recent call last)",
            "\u001b[0;32m<ipython-input-6-f4c94fedece7>\u001b[0m in \u001b[0;36m<module>\u001b[0;34m()\u001b[0m\n\u001b[1;32m     14\u001b[0m         \u001b[0msel_product\u001b[0m\u001b[0;34m(\u001b[0m\u001b[0;34m)\u001b[0m\u001b[0;34m\u001b[0m\u001b[0;34m\u001b[0m\u001b[0m\n\u001b[1;32m     15\u001b[0m     \u001b[0;32melif\u001b[0m \u001b[0mmenu\u001b[0m \u001b[0;34m==\u001b[0m \u001b[0;34m'3'\u001b[0m\u001b[0;34m:\u001b[0m\u001b[0;34m\u001b[0m\u001b[0;34m\u001b[0m\u001b[0m\n\u001b[0;32m---> 16\u001b[0;31m         \u001b[0msearch_product\u001b[0m\u001b[0;34m(\u001b[0m\u001b[0;34m)\u001b[0m\u001b[0;34m\u001b[0m\u001b[0;34m\u001b[0m\u001b[0m\n\u001b[0m\u001b[1;32m     17\u001b[0m \u001b[0;34m\u001b[0m\u001b[0m\n\u001b[1;32m     18\u001b[0m \u001b[0;31m#2. 재고 등록\u001b[0m\u001b[0;34m\u001b[0m\u001b[0;34m\u001b[0m\u001b[0;34m\u001b[0m\u001b[0m\n",
            "\u001b[0;31mNameError\u001b[0m: name 'search_product' is not defined"
          ]
        }
      ]
    }
  ]
}