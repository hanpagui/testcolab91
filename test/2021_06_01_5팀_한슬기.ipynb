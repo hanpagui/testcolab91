{
  "nbformat": 2,
  "nbformat_minor": 0,
  "metadata": {
    "colab": {
      "name": "2021-06-01_5팀 한슬기.ipynb",
      "provenance": [],
      "collapsed_sections": [],
      "toc_visible": true
    },
    "kernelspec": {
      "name": "python3",
      "display_name": "Python 3"
    },
    "language_info": {
      "name": "python"
    }
  },
  "cells": [
    {
      "cell_type": "markdown",
      "metadata": {
        "id": "q59sCTvS6q-q"
      },
      "source": [
        "# for문\n",
        "\n",
        "*   반복횟수가 미리 정해져있을때 사용 \n",
        "\n",
        "*   주어진 자료를 순회할때 주료 사용되는 반복 구조 \n"
      ]
    },
    {
      "cell_type": "code",
      "metadata": {
        "colab": {
          "base_uri": "https://localhost:8080/"
        },
        "id": "K99HoALr6tes",
        "outputId": "28df69a3-3288-48cc-ec34-8648fad2217e"
      },
      "source": [
        "# for문의 세가지 생성방법\n",
        "\n",
        "#1. 리스트를 시퀀스로 갖는 반복문\n",
        "for i in [1,2,3,4,5,8,8]:\n",
        "    print(i)\n",
        "\n",
        "print('-'*50)     # ----- 경계선 만드는것 ㅎㅎ \n"
      ],
      "execution_count": null,
      "outputs": [
        {
          "output_type": "stream",
          "text": [
            "1\n",
            "2\n",
            "3\n",
            "4\n",
            "5\n",
            "8\n",
            "8\n",
            "--------------------------------------------------\n"
          ],
          "name": "stdout"
        }
      ]
    },
    {
      "cell_type": "code",
      "metadata": {
        "colab": {
          "base_uri": "https://localhost:8080/"
        },
        "id": "qC59yuN4Nu2I",
        "outputId": "2b4eca33-b05a-426e-822d-b62929aa9203"
      },
      "source": [
        "#2. 문자열을 시퀀스로 갖는 반복문\n",
        "for i in 'python':\n",
        "    print(i)"
      ],
      "execution_count": null,
      "outputs": [
        {
          "output_type": "stream",
          "text": [
            "p\n",
            "y\n",
            "t\n",
            "h\n",
            "o\n",
            "n\n"
          ],
          "name": "stdout"
        }
      ]
    },
    {
      "cell_type": "markdown",
      "metadata": {
        "id": "2IYvfp-J5hcU"
      },
      "source": [
        "# range()함수 \n",
        " > 일정한 범위의 정수들을 생성 "
      ]
    },
    {
      "cell_type": "code",
      "metadata": {
        "colab": {
          "base_uri": "https://localhost:8080/"
        },
        "id": "y09lCMCiNyia",
        "outputId": "69e268d7-5861-4161-c081-382bf6b20162"
      },
      "source": [
        "#3. range를 통해 시퀀스를 받는 반복문\n",
        "for i in range(5):\n",
        "    print(i)"
      ],
      "execution_count": null,
      "outputs": [
        {
          "output_type": "stream",
          "text": [
            "0\n",
            "1\n",
            "2\n",
            "3\n",
            "4\n"
          ],
          "name": "stdout"
        }
      ]
    },
    {
      "cell_type": "code",
      "metadata": {
        "colab": {
          "base_uri": "https://localhost:8080/"
        },
        "id": "uGbnw-x66xD_",
        "outputId": "bb0b20d9-c5f7-4223-8b82-36e7bd41603c"
      },
      "source": [
        "# range를 사용한 for문\n",
        "\n",
        "#1. 줄바꿈 없이 출력\n",
        "for i in range(5):\n",
        "    print(i, end='')\n",
        "\n",
        "print('')\n",
        "print('-'*50)\n",
        "\n",
        "#2. 줄바꿈없이 1부터 6까지 출력.\n",
        "for i in range(1, 6):\n",
        "    print(i, end='')\n",
        "\n",
        "print('')\n",
        "print('-'*50)\n",
        "\n",
        "#3. 탭을 누른만큼 띄어쓰기 해서 출력하기\n",
        "for i in range(1,10,2):\n",
        "    print(i, end='\\t')        # end = '\\t' 는 줄이 바뀌지 않고 탭간격으로 출력.\n",
        "\n",
        "print('')\n",
        "print('-'*50)\n",
        "\n",
        "#4. 역순 range. 음수의 range도 가능하다.\n",
        "for i in range(10,0,-2):\n",
        "    print(i, end='\\t')\n"
      ],
      "execution_count": null,
      "outputs": [
        {
          "output_type": "stream",
          "text": [
            "01234\n",
            "--------------------------------------------------\n",
            "12345\n",
            "--------------------------------------------------\n",
            "1\t3\t5\t7\t9\t\n",
            "--------------------------------------------------\n",
            "10\t8\t6\t4\t2\t"
          ],
          "name": "stdout"
        }
      ]
    },
    {
      "cell_type": "code",
      "metadata": {
        "id": "hwPF30M46zVu"
      },
      "source": [
        "# 예시. Hello World 반복출력하기\n",
        "\n",
        "for i in range(3):\n",
        "    print('Hello World!!', end=' ')"
      ],
      "execution_count": null,
      "outputs": []
    },
    {
      "cell_type": "markdown",
      "metadata": {
        "id": "JhftO68m61cs"
      },
      "source": [
        "# While문\n",
        "> 조건식의 결과가 True인 경우만 반복된다.\n",
        "> 조건식의 결과가 False 인 경우 빠져나오게 됨 \n",
        "> while 조건식:\n",
        "\n"
      ]
    },
    {
      "cell_type": "code",
      "metadata": {
        "colab": {
          "base_uri": "https://localhost:8080/"
        },
        "id": "AOm4x-i7639v",
        "outputId": "d1886795-f801-479e-bf82-3b4cf5446620"
      },
      "source": [
        "\n",
        "i = 1             #루픠의 조건식에 사용되는 변수는 미리 지정되어야 한다. \n",
        "while i<=5 :         #i가 5보다 작거나 같은 값 '까지만' 출력한다.그러나 6은 while문을 빠져나가버려서 출력이 안됨.\n",
        "    print(i, end=' ')\n",
        "    i = i+1\n",
        "\n",
        "print('')\n",
        "print('-'*50)\n",
        "\n",
        "#-----------------------------------------------------------------------------\n",
        "# while문 위 문장의 바리에이션\n",
        "i = 0\n",
        "while i<=5 :\n",
        "    i = i+1\n",
        "    print(i, end=' ')\n",
        "\n",
        "print('')\n",
        "print('-'*50)\n",
        "\n",
        "#-----------------------------------------------------------------------------\n",
        "# for문\n",
        "i = 1\n",
        "for i in range(1,6):\n",
        "    print(i, end=' ')"
      ],
      "execution_count": null,
      "outputs": [
        {
          "output_type": "stream",
          "text": [
            "1 2 3 4 5 \n",
            "--------------------------------------------------\n",
            "1 2 3 4 5 6 \n",
            "--------------------------------------------------\n",
            "1 2 3 4 5 "
          ],
          "name": "stdout"
        }
      ]
    },
    {
      "cell_type": "code",
      "metadata": {
        "colab": {
          "base_uri": "https://localhost:8080/"
        },
        "id": "Qr6wqKb467_D",
        "outputId": "673573d2-6b54-4119-e3b1-07311dd0fecf"
      },
      "source": [
        "i = 0\n",
        "while i<=5 :\n",
        "    print(i, end=' ')\n",
        "    i = i+1\n",
        "\n",
        "print('')\n",
        "print('-'*50)\n",
        "\n",
        "#-----------------------------------------------------------------------------\n",
        "i = 0                   # 들어가기 전에 초기화 중요한것같다.\n",
        "while i<=5 :\n",
        "    i = i+1\n",
        "    print(i, end=' ')   # 조건문에 사용되는 변수 값은 루프 내에서 변경되어야 한다.\n"
      ],
      "execution_count": null,
      "outputs": [
        {
          "output_type": "stream",
          "text": [
            "0 1 2 3 4 5 \n",
            "--------------------------------------------------\n",
            "1 2 3 4 5 6 "
          ],
          "name": "stdout"
        }
      ]
    },
    {
      "cell_type": "markdown",
      "metadata": {
        "id": "5E1BulJg7y36"
      },
      "source": [
        "# 무한루프\n",
        "조건식내에서 사용되는 변수의 fale값을 만들지 않으면 무한루프가 됩니다"
      ]
    },
    {
      "cell_type": "code",
      "metadata": {
        "id": "8FJmO4Pi6-JO"
      },
      "source": [
        "# 무한루프 문제들.\n",
        "\n",
        "#-----------------------------------------------------------------------------\n",
        "#i = 1\n",
        "#while [1,2,3,4,5,6,7,8,9,10] : \n",
        "#    print(i)\n",
        "            # 위험! 루프문 되어버린다!!!\n",
        "\n",
        "#while문 옆에는 조건식이 들어가야한다. 참 거짓 판단이 이뤄져야한다.\n",
        "#리스트는 쓸 수 없지만, in 명령어를 쓴다던지 하면 그건 가능. \n",
        "\n",
        "#-----------------------------------------------------------------------------\n",
        "#i = 1\n",
        "#while i<=5 :\n",
        "#   print(i)\n",
        "#print('끝')\n",
        "# -> 변수 i 를 증가시키는것을 까먹어서 무한루프에 빠졌다 \n",
        "# ( 변수 i는 영원히 1이다. 따라서 i<=5는 영원히 True)"
      ],
      "execution_count": null,
      "outputs": []
    },
    {
      "cell_type": "markdown",
      "metadata": {
        "id": "8xr2OPrI9lSg"
      },
      "source": [
        "# while 문/for문 예제"
      ]
    },
    {
      "cell_type": "code",
      "metadata": {
        "colab": {
          "base_uri": "https://localhost:8080/"
        },
        "id": "czHcPyDt9svv",
        "outputId": "062c8995-c835-48e8-9beb-3166bc68a5a8"
      },
      "source": [
        "#'q' 를 입력할때까지 반복하여 이름 입력받기 \n",
        "name = ' '\n",
        "while name != 'q': # 같지 않다표시는 != 이렇게 붙여서 써야하며 수식들은 붙여서 써야한다 \n",
        "    name = input('이름을 입력하시오:')\n",
        "    print(name)"
      ],
      "execution_count": null,
      "outputs": [
        {
          "output_type": "stream",
          "text": [
            "이름을 입력하시오:a\n",
            "a\n",
            "이름을 입력하시오:b\n",
            "b\n",
            "이름을 입력하시오:q\n",
            "q\n"
          ],
          "name": "stdout"
        }
      ]
    },
    {
      "cell_type": "code",
      "metadata": {
        "colab": {
          "base_uri": "https://localhost:8080/",
          "height": 134
        },
        "id": "D-jU-Cly_5ee",
        "outputId": "e8303bee-07ee-486b-f6b7-8b116cffadbc"
      },
      "source": [
        "#'q' 를 입력할때까지 반복하여 이름 입력받지만 q는 입력x 조건추가 \n",
        "name = ' '\n",
        "while name != 'q': # 같지 않다표시는 != 이렇게 붙여서 써야하며 수식들은 붙여서 써야한다 \n",
        "    name = input('이름을 입력하시오:')\n",
        "    if name != 'q':\n",
        "    print(name)"
      ],
      "execution_count": null,
      "outputs": [
        {
          "output_type": "error",
          "ename": "IndentationError",
          "evalue": "ignored",
          "traceback": [
            "\u001b[0;36m  File \u001b[0;32m\"<ipython-input-17-7c16e1a9a049>\"\u001b[0;36m, line \u001b[0;32m6\u001b[0m\n\u001b[0;31m    print(name)\u001b[0m\n\u001b[0m        ^\u001b[0m\n\u001b[0;31mIndentationError\u001b[0m\u001b[0;31m:\u001b[0m expected an indented block\n"
          ]
        }
      ]
    },
    {
      "cell_type": "code",
      "metadata": {
        "colab": {
          "base_uri": "https://localhost:8080/"
        },
        "id": "xYjauUrm_BTN",
        "outputId": "d32f175e-2230-4209-8014-381bd2b1c233"
      },
      "source": [
        "num1 = 0\n",
        "sum1 = 0\n",
        "while num1 != 99:\n",
        "    num1 = int(input())\n",
        "    sum1 += num1\n",
        "    print(sum1)"
      ],
      "execution_count": null,
      "outputs": [
        {
          "output_type": "stream",
          "text": [
            "2\n",
            "2\n",
            "33\n",
            "35\n",
            "44\n",
            "79\n",
            "99\n",
            "178\n"
          ],
          "name": "stdout"
        }
      ]
    },
    {
      "cell_type": "code",
      "metadata": {
        "colab": {
          "base_uri": "https://localhost:8080/"
        },
        "id": "wPcZVT9FAB6i",
        "outputId": "b8997723-2174-4743-9f90-fbc266bf406a"
      },
      "source": [
        "# 5개의 정수를 입력받아 합계구하기 \n",
        "sum = 0                              # 합계 초기화 \n",
        "for a in range(5):                   # 5번 반복 \n",
        "    num = int(input('정수입력 : '))  # 입력칸 표시 \n",
        "    sum += num1                      # 입력한 정수를 합계에 누적하여 더하기 \n",
        "print('합계출력:',sum)               # 합계 출력 "
      ],
      "execution_count": null,
      "outputs": [
        {
          "output_type": "stream",
          "text": [
            "정수입력 : 2\n",
            "정수입력 : 1\n",
            "정수입력 : 4\n",
            "정수입력 : 8\n",
            "정수입력 : 4\n",
            "합계출력: 495\n"
          ],
          "name": "stdout"
        }
      ]
    },
    {
      "cell_type": "code",
      "metadata": {
        "colab": {
          "base_uri": "https://localhost:8080/",
          "height": 897
        },
        "id": "KsH2_wNiAmr4",
        "outputId": "7b8334e6-acc7-4f20-a0fa-13769b25ff06"
      },
      "source": [
        "#1팀 예제 참고 \n",
        "num = 0\n",
        "baskin = 0\n",
        "\n",
        "while baskin<= 31 :\n",
        "    num = int(input('베스킨라빈스 31! (1~3)  '))\n",
        "    \n",
        "    # 1~3 안의 숫자를 추가하고 있는지 체크하는 함수\n",
        "    if num >=1 and num <= 3 :\n",
        "        print('=> 입력한 숫자: ', num) \n",
        "        baskin += num\n",
        "        print('=> 쌓인 숫자 : ', baskin)\n",
        "\n",
        "    else : \n",
        "        print('1부터 3까지의 숫자 중에 입력하세요')\n",
        "    \n",
        "    print('-'*50)"
      ],
      "execution_count": null,
      "outputs": [
        {
          "output_type": "stream",
          "text": [
            "베스킨라빈스 31! (1~3)  1\n",
            "=> 입력한 숫자:  1\n",
            "=> 쌓인 숫자 :  1\n",
            "--------------------------------------------------\n",
            "베스킨라빈스 31! (1~3)  3\n",
            "=> 입력한 숫자:  3\n",
            "=> 쌓인 숫자 :  4\n",
            "--------------------------------------------------\n",
            "베스킨라빈스 31! (1~3)  2\n",
            "=> 입력한 숫자:  2\n",
            "=> 쌓인 숫자 :  6\n",
            "--------------------------------------------------\n",
            "베스킨라빈스 31! (1~3)  55\n",
            "1부터 3까지의 숫자 중에 입력하세요\n",
            "--------------------------------------------------\n",
            "베스킨라빈스 31! (1~3)  31\n",
            "1부터 3까지의 숫자 중에 입력하세요\n",
            "--------------------------------------------------\n"
          ],
          "name": "stdout"
        },
        {
          "output_type": "error",
          "ename": "KeyboardInterrupt",
          "evalue": "ignored",
          "traceback": [
            "\u001b[0;31m---------------------------------------------------------------------------\u001b[0m",
            "\u001b[0;31mKeyboardInterrupt\u001b[0m                         Traceback (most recent call last)",
            "\u001b[0;32m/usr/local/lib/python3.7/dist-packages/ipykernel/kernelbase.py\u001b[0m in \u001b[0;36m_input_request\u001b[0;34m(self, prompt, ident, parent, password)\u001b[0m\n\u001b[1;32m    728\u001b[0m             \u001b[0;32mtry\u001b[0m\u001b[0;34m:\u001b[0m\u001b[0;34m\u001b[0m\u001b[0;34m\u001b[0m\u001b[0m\n\u001b[0;32m--> 729\u001b[0;31m                 \u001b[0mident\u001b[0m\u001b[0;34m,\u001b[0m \u001b[0mreply\u001b[0m \u001b[0;34m=\u001b[0m \u001b[0mself\u001b[0m\u001b[0;34m.\u001b[0m\u001b[0msession\u001b[0m\u001b[0;34m.\u001b[0m\u001b[0mrecv\u001b[0m\u001b[0;34m(\u001b[0m\u001b[0mself\u001b[0m\u001b[0;34m.\u001b[0m\u001b[0mstdin_socket\u001b[0m\u001b[0;34m,\u001b[0m \u001b[0;36m0\u001b[0m\u001b[0;34m)\u001b[0m\u001b[0;34m\u001b[0m\u001b[0;34m\u001b[0m\u001b[0m\n\u001b[0m\u001b[1;32m    730\u001b[0m             \u001b[0;32mexcept\u001b[0m \u001b[0mException\u001b[0m\u001b[0;34m:\u001b[0m\u001b[0;34m\u001b[0m\u001b[0;34m\u001b[0m\u001b[0m\n",
            "\u001b[0;32m/usr/local/lib/python3.7/dist-packages/jupyter_client/session.py\u001b[0m in \u001b[0;36mrecv\u001b[0;34m(self, socket, mode, content, copy)\u001b[0m\n\u001b[1;32m    802\u001b[0m         \u001b[0;32mtry\u001b[0m\u001b[0;34m:\u001b[0m\u001b[0;34m\u001b[0m\u001b[0;34m\u001b[0m\u001b[0m\n\u001b[0;32m--> 803\u001b[0;31m             \u001b[0mmsg_list\u001b[0m \u001b[0;34m=\u001b[0m \u001b[0msocket\u001b[0m\u001b[0;34m.\u001b[0m\u001b[0mrecv_multipart\u001b[0m\u001b[0;34m(\u001b[0m\u001b[0mmode\u001b[0m\u001b[0;34m,\u001b[0m \u001b[0mcopy\u001b[0m\u001b[0;34m=\u001b[0m\u001b[0mcopy\u001b[0m\u001b[0;34m)\u001b[0m\u001b[0;34m\u001b[0m\u001b[0;34m\u001b[0m\u001b[0m\n\u001b[0m\u001b[1;32m    804\u001b[0m         \u001b[0;32mexcept\u001b[0m \u001b[0mzmq\u001b[0m\u001b[0;34m.\u001b[0m\u001b[0mZMQError\u001b[0m \u001b[0;32mas\u001b[0m \u001b[0me\u001b[0m\u001b[0;34m:\u001b[0m\u001b[0;34m\u001b[0m\u001b[0;34m\u001b[0m\u001b[0m\n",
            "\u001b[0;32m/usr/local/lib/python3.7/dist-packages/zmq/sugar/socket.py\u001b[0m in \u001b[0;36mrecv_multipart\u001b[0;34m(self, flags, copy, track)\u001b[0m\n\u001b[1;32m    582\u001b[0m         \"\"\"\n\u001b[0;32m--> 583\u001b[0;31m         \u001b[0mparts\u001b[0m \u001b[0;34m=\u001b[0m \u001b[0;34m[\u001b[0m\u001b[0mself\u001b[0m\u001b[0;34m.\u001b[0m\u001b[0mrecv\u001b[0m\u001b[0;34m(\u001b[0m\u001b[0mflags\u001b[0m\u001b[0;34m,\u001b[0m \u001b[0mcopy\u001b[0m\u001b[0;34m=\u001b[0m\u001b[0mcopy\u001b[0m\u001b[0;34m,\u001b[0m \u001b[0mtrack\u001b[0m\u001b[0;34m=\u001b[0m\u001b[0mtrack\u001b[0m\u001b[0;34m)\u001b[0m\u001b[0;34m]\u001b[0m\u001b[0;34m\u001b[0m\u001b[0;34m\u001b[0m\u001b[0m\n\u001b[0m\u001b[1;32m    584\u001b[0m         \u001b[0;31m# have first part already, only loop while more to receive\u001b[0m\u001b[0;34m\u001b[0m\u001b[0;34m\u001b[0m\u001b[0;34m\u001b[0m\u001b[0m\n",
            "\u001b[0;32mzmq/backend/cython/socket.pyx\u001b[0m in \u001b[0;36mzmq.backend.cython.socket.Socket.recv\u001b[0;34m()\u001b[0m\n",
            "\u001b[0;32mzmq/backend/cython/socket.pyx\u001b[0m in \u001b[0;36mzmq.backend.cython.socket.Socket.recv\u001b[0;34m()\u001b[0m\n",
            "\u001b[0;32mzmq/backend/cython/socket.pyx\u001b[0m in \u001b[0;36mzmq.backend.cython.socket._recv_copy\u001b[0;34m()\u001b[0m\n",
            "\u001b[0;32m/usr/local/lib/python3.7/dist-packages/zmq/backend/cython/checkrc.pxd\u001b[0m in \u001b[0;36mzmq.backend.cython.checkrc._check_rc\u001b[0;34m()\u001b[0m\n",
            "\u001b[0;31mKeyboardInterrupt\u001b[0m: ",
            "\nDuring handling of the above exception, another exception occurred:\n",
            "\u001b[0;31mKeyboardInterrupt\u001b[0m                         Traceback (most recent call last)",
            "\u001b[0;32m<ipython-input-22-b5cbaaadc485>\u001b[0m in \u001b[0;36m<module>\u001b[0;34m()\u001b[0m\n\u001b[1;32m      4\u001b[0m \u001b[0;34m\u001b[0m\u001b[0m\n\u001b[1;32m      5\u001b[0m \u001b[0;32mwhile\u001b[0m \u001b[0mbaskin\u001b[0m\u001b[0;34m<=\u001b[0m \u001b[0;36m31\u001b[0m \u001b[0;34m:\u001b[0m\u001b[0;34m\u001b[0m\u001b[0;34m\u001b[0m\u001b[0m\n\u001b[0;32m----> 6\u001b[0;31m     \u001b[0mnum\u001b[0m \u001b[0;34m=\u001b[0m \u001b[0mint\u001b[0m\u001b[0;34m(\u001b[0m\u001b[0minput\u001b[0m\u001b[0;34m(\u001b[0m\u001b[0;34m'베스킨라빈스 31! (1~3)  '\u001b[0m\u001b[0;34m)\u001b[0m\u001b[0;34m)\u001b[0m\u001b[0;34m\u001b[0m\u001b[0;34m\u001b[0m\u001b[0m\n\u001b[0m\u001b[1;32m      7\u001b[0m \u001b[0;34m\u001b[0m\u001b[0m\n\u001b[1;32m      8\u001b[0m     \u001b[0;31m# 1~3 안의 숫자를 추가하고 있는지 체크하는 함수\u001b[0m\u001b[0;34m\u001b[0m\u001b[0;34m\u001b[0m\u001b[0;34m\u001b[0m\u001b[0m\n",
            "\u001b[0;32m/usr/local/lib/python3.7/dist-packages/ipykernel/kernelbase.py\u001b[0m in \u001b[0;36mraw_input\u001b[0;34m(self, prompt)\u001b[0m\n\u001b[1;32m    702\u001b[0m             \u001b[0mself\u001b[0m\u001b[0;34m.\u001b[0m\u001b[0m_parent_ident\u001b[0m\u001b[0;34m,\u001b[0m\u001b[0;34m\u001b[0m\u001b[0;34m\u001b[0m\u001b[0m\n\u001b[1;32m    703\u001b[0m             \u001b[0mself\u001b[0m\u001b[0;34m.\u001b[0m\u001b[0m_parent_header\u001b[0m\u001b[0;34m,\u001b[0m\u001b[0;34m\u001b[0m\u001b[0;34m\u001b[0m\u001b[0m\n\u001b[0;32m--> 704\u001b[0;31m             \u001b[0mpassword\u001b[0m\u001b[0;34m=\u001b[0m\u001b[0;32mFalse\u001b[0m\u001b[0;34m,\u001b[0m\u001b[0;34m\u001b[0m\u001b[0;34m\u001b[0m\u001b[0m\n\u001b[0m\u001b[1;32m    705\u001b[0m         )\n\u001b[1;32m    706\u001b[0m \u001b[0;34m\u001b[0m\u001b[0m\n",
            "\u001b[0;32m/usr/local/lib/python3.7/dist-packages/ipykernel/kernelbase.py\u001b[0m in \u001b[0;36m_input_request\u001b[0;34m(self, prompt, ident, parent, password)\u001b[0m\n\u001b[1;32m    732\u001b[0m             \u001b[0;32mexcept\u001b[0m \u001b[0mKeyboardInterrupt\u001b[0m\u001b[0;34m:\u001b[0m\u001b[0;34m\u001b[0m\u001b[0;34m\u001b[0m\u001b[0m\n\u001b[1;32m    733\u001b[0m                 \u001b[0;31m# re-raise KeyboardInterrupt, to truncate traceback\u001b[0m\u001b[0;34m\u001b[0m\u001b[0;34m\u001b[0m\u001b[0;34m\u001b[0m\u001b[0m\n\u001b[0;32m--> 734\u001b[0;31m                 \u001b[0;32mraise\u001b[0m \u001b[0mKeyboardInterrupt\u001b[0m\u001b[0;34m\u001b[0m\u001b[0;34m\u001b[0m\u001b[0m\n\u001b[0m\u001b[1;32m    735\u001b[0m             \u001b[0;32melse\u001b[0m\u001b[0;34m:\u001b[0m\u001b[0;34m\u001b[0m\u001b[0;34m\u001b[0m\u001b[0m\n\u001b[1;32m    736\u001b[0m                 \u001b[0;32mbreak\u001b[0m\u001b[0;34m\u001b[0m\u001b[0;34m\u001b[0m\u001b[0m\n",
            "\u001b[0;31mKeyboardInterrupt\u001b[0m: "
          ]
        }
      ]
    },
    {
      "cell_type": "code",
      "metadata": {
        "colab": {
          "base_uri": "https://localhost:8080/"
        },
        "id": "0yKDPsT7CHmU",
        "outputId": "4ab9d8ac-b47d-4e4f-8d3c-4bfea2a99d44"
      },
      "source": [
        "#n개의 정수를 입력받아 합계 구하기 ( 5개정수 예제와 비슷 )\n",
        "n = int(input('몇 개의 숫자를 더할까용? : ')) # 반복횟수 n 입력 \n",
        "sum1 = 0                              # 합계 초기화 \n",
        "for a in range(n):                   # n번 반복 \n",
        "    num = int(input('정수입력 : '))  # 입력\n",
        "    sum1 += num                       # 입력한 정수를 합계에 누적하여 더하기 \n",
        "print('합계출력:',sum1)               # 합계 출력 "
      ],
      "execution_count": null,
      "outputs": [
        {
          "output_type": "stream",
          "text": [
            "몇 개의 숫자를 더할까용? : 4\n",
            "정수입력 : 100\n",
            "정수입력 : 20\n",
            "정수입력 : 31\n",
            "정수입력 : 31\n",
            "합계출력: 182\n"
          ],
          "name": "stdout"
        }
      ]
    },
    {
      "cell_type": "code",
      "metadata": {
        "colab": {
          "base_uri": "https://localhost:8080/"
        },
        "id": "T7-OkhZCEvKQ",
        "outputId": "11ccc0dc-ef52-4c3e-b5fa-23e2903b64f0"
      },
      "source": [
        "#n개의 정수를 입력받아 '짝수' 합계 구하기 \n",
        "sum1 = 0\n",
        "a = int(input('몇개 더할까여 : '))\n",
        "for a in range(n):\n",
        "    num = int(input('정수 : '))\n",
        "    if num % 2 == 0:           #2로 나눈 나머지가 0 -> 짝수 구분 \n",
        "        sum1 += num\n",
        "print('합계:',sum1)   "
      ],
      "execution_count": null,
      "outputs": [
        {
          "output_type": "stream",
          "text": [
            "몇개 더할까여 : 3\n",
            "정수 : 1\n",
            "정수 : 2\n",
            "정수 : 4\n",
            "정수 : 6\n",
            "합계: 12\n"
          ],
          "name": "stdout"
        }
      ]
    },
    {
      "cell_type": "code",
      "metadata": {
        "colab": {
          "base_uri": "https://localhost:8080/"
        },
        "id": "HMKEG7XfFUto",
        "outputId": "517514d9-3107-4f74-85e2-d2d8b8e6bcb7"
      },
      "source": [
        "#n개의 정수를 입력받아 '3의 배수' 합계 구하기 \n",
        "sum1 = 0\n",
        "a = int(input('몇개 더할까여 : '))\n",
        "for a in range(n):\n",
        "    num = int(input('정수 : '))\n",
        "    if num % 3 == 0:          \n",
        "        sum1 += num\n",
        "print('합계:',sum1)   "
      ],
      "execution_count": null,
      "outputs": [
        {
          "output_type": "stream",
          "text": [
            "몇개 더할까여 : 4\n",
            "정수 : 2\n",
            "정수 : 3\n",
            "정수 : 9\n",
            "정수 : 5\n",
            "합계: 12\n"
          ],
          "name": "stdout"
        }
      ]
    },
    {
      "cell_type": "code",
      "metadata": {
        "colab": {
          "base_uri": "https://localhost:8080/"
        },
        "id": "CUQ_c-fPGR8H",
        "outputId": "51c87aa5-762b-49ca-d157-311794e73709"
      },
      "source": [
        "#0이 입력될때까지 숫자 입력받아 합계 구하기 \n",
        "sum1 = 0\n",
        "num = int(input('숫자 :'))\n",
        "while num !=0:\n",
        "    sum1+=num \n",
        "    num = int(input('숫자:'))\n",
        "print('합계:',sum)"
      ],
      "execution_count": null,
      "outputs": [
        {
          "output_type": "stream",
          "text": [
            "숫자 :5\n",
            "숫자:66\n",
            "숫자:2\n",
            "숫자:0\n",
            "합계: 4\n"
          ],
          "name": "stdout"
        }
      ]
    },
    {
      "cell_type": "code",
      "metadata": {
        "colab": {
          "base_uri": "https://localhost:8080/"
        },
        "id": "RmXnWl4TKYzK",
        "outputId": "b85b2b94-8b85-46b1-ffed-cdcb4b3db6e5"
      },
      "source": [
        "# 0이 입력될때까지 숫자 입력받아 합계 구하기 \n",
        "# 두 조건중에 하나만 참이여도 명령을 실행 \n",
        "sum1 = 0\n",
        "chk = 1\n",
        "\n",
        "while num!=0 or chk == 1:\n",
        "    \n",
        "    num = int(input(\"숫자: \"))\n",
        "    sum1+=num\n",
        "    if chk == 1:                      #chk 값은 계속 1 증가할 필요가 x     \n",
        "        chk = 1 + chk\n",
        "print('합계:', sum1)\n"
      ],
      "execution_count": null,
      "outputs": [
        {
          "output_type": "stream",
          "text": [
            "숫자: 2\n",
            "숫자: 3\n",
            "숫자: 0\n",
            "합계: 5\n"
          ],
          "name": "stdout"
        }
      ]
    },
    {
      "cell_type": "code",
      "metadata": {
        "colab": {
          "base_uri": "https://localhost:8080/"
        },
        "id": "Mi3SbmpGL2tg",
        "outputId": "5545b003-42f6-49c8-8860-834971cfc4c1"
      },
      "source": [
        "#1~n 까지 더하는 프로그램을 작성하세요 \n",
        "sum1 = 0\n",
        "a = int(input('1부터 몇까지 더할까유? : '))\n",
        "for i in range(1,a+1):\n",
        "    sum1 += i\n",
        "print(f'1부터 {a}까지 합계는 {sum1}입니다')"
      ],
      "execution_count": null,
      "outputs": [
        {
          "output_type": "stream",
          "text": [
            "1부터 몇까지 더할까유? : 3\n",
            "1부터 3까지 합계는 6입니다\n"
          ],
          "name": "stdout"
        }
      ]
    },
    {
      "cell_type": "code",
      "metadata": {
        "colab": {
          "base_uri": "https://localhost:8080/"
        },
        "id": "4ui8JfA6OUbg",
        "outputId": "ba8e2dc8-97ce-4703-d70f-7c47d59a3504"
      },
      "source": [
        "#1~n 까지 더하는 프로그램을 작성하세요 \n",
        "sum1 = 0\n",
        "a = int(input('1부터 몇까지 더할까유? : '))\n",
        "for i in range(1,a+1):\n",
        "    sum1 += i\n",
        "    print(i)                                #i 값의 변화를 함께 보여주는 출력문 \n",
        "print(f'1부터 {a}까지 합계는 {sum1}입니다')"
      ],
      "execution_count": null,
      "outputs": [
        {
          "output_type": "stream",
          "text": [
            "1부터 몇까지 더할까유? : 5\n",
            "1\n",
            "2\n",
            "3\n",
            "4\n",
            "5\n",
            "1부터 5까지 합계는 15입니다\n"
          ],
          "name": "stdout"
        }
      ]
    },
    {
      "cell_type": "code",
      "metadata": {
        "colab": {
          "base_uri": "https://localhost:8080/"
        },
        "id": "-f2_bCL0OpUd",
        "outputId": "1febccb0-b633-4496-dddf-a5ccce0a9100"
      },
      "source": [
        "#1~n 까지 더하는 프로그램을 작성하세요 (while 문의로 작성 )\n",
        "sum1 = 0\n",
        "a = int(input('1부터 몇까지 더할까유? : '))\n",
        "i = 1\n",
        "while i <= a:\n",
        "    sum1 += i\n",
        "    i += 1\n",
        "\n",
        "print(f'1부터 {a}까지 합계는 {sum1}입니다')"
      ],
      "execution_count": null,
      "outputs": [
        {
          "output_type": "stream",
          "text": [
            "1부터 몇까지 더할까유? : 2\n",
            "1부터 2까지 합계는 3입니다\n"
          ],
          "name": "stdout"
        }
      ]
    },
    {
      "cell_type": "code",
      "metadata": {
        "colab": {
          "base_uri": "https://localhost:8080/"
        },
        "id": "hBY0EOaDaLOx",
        "outputId": "5e6ac765-9f92-4203-8362-e1c65926e2c8"
      },
      "source": [
        "#숫자 n1,n2를 입력받아 n1 ~ n2까지 더하는 프로그램을 작성하세요 \n",
        "sum1 = 0\n",
        "n1 = int(input('몇 부터? : '))\n",
        "n2 = int(input('몇 까지? : '))\n",
        "for i in range(n1,n2+1):                    #n1 부터 n2+1 까지 범위값 지정 \n",
        "    sum1 += i\n",
        "    print(i)                                #i 값의 변화를 함께 보여주는 출력문 \n",
        "print(f'{n1}부터 {n2}까지 합계는 {sum1}입니다')"
      ],
      "execution_count": null,
      "outputs": [
        {
          "output_type": "stream",
          "text": [
            "몇 부터? : 3\n",
            "몇 까지? : 6\n",
            "3\n",
            "4\n",
            "5\n",
            "6\n",
            "3부터 6까지 합계는 21입니다\n"
          ],
          "name": "stdout"
        }
      ]
    },
    {
      "cell_type": "code",
      "metadata": {
        "colab": {
          "base_uri": "https://localhost:8080/"
        },
        "id": "OhwB5sHycOWT",
        "outputId": "64877386-fe88-4bd2-a2ef-beba34d38fc6"
      },
      "source": [
        "#임의의 개수 숫자의 평균 구하기 \n",
        "n = int(input('입력받을 정수의 개수: ')) #임의의 개수 -> n을 먼저 입력받음 \n",
        "sum1 = 0 #합계값을 구하는 갯수의 초기값 지정 \n",
        "# 반복하는 개수가 정해졌을때는 'for 문' 사용 \n",
        "for a in range(n):\n",
        "    num = int(input('정수:'))\n",
        "    sum1 += num\n",
        "if n == 0:                       #0개의 정수를 입력했을때\n",
        "    print('정수를 입력해주세요')\n",
        "else:\n",
        "    print(f'{n}개 정수의 평균:',sum1/n)\n"
      ],
      "execution_count": null,
      "outputs": [
        {
          "output_type": "stream",
          "text": [
            "입력받을 정수의 개수: 0\n",
            "정수를 입력해주세요\n"
          ],
          "name": "stdout"
        }
      ]
    },
    {
      "cell_type": "markdown",
      "metadata": {
        "id": "dnmAaqkofhRc"
      },
      "source": [
        "# 예제 > 팩토리얼 계산하기 "
      ]
    },
    {
      "cell_type": "code",
      "metadata": {
        "colab": {
          "base_uri": "https://localhost:8080/"
        },
        "id": "yH3YiG5Gdagq",
        "outputId": "45925cbd-441f-4069-ac5b-29b2ee3b6bda"
      },
      "source": [
        "# 정수 n을 입력받아 n!을 계산하는 프로그램 \n",
        "# n! = n*(n-1)*(n-2)*...*1\n",
        "n = int(input('몇 팩토리얼?(!)'))\n",
        "fct = 1                 # 팩토리얼은 곱하기니까 초기값 0이 아닌 1\n",
        "for i in range(n,0,-1):\n",
        "    fct *= i\n",
        "    print(i,fct)        # fct 곱한값도 같이 보여주기 \n",
        "print(f'{n}! = {fct}')\n"
      ],
      "execution_count": null,
      "outputs": [
        {
          "output_type": "stream",
          "text": [
            "몇 팩토리얼?(!)5\n",
            "5 5\n",
            "4 20\n",
            "3 60\n",
            "2 120\n",
            "1 120\n",
            "5! = 120\n"
          ],
          "name": "stdout"
        }
      ]
    },
    {
      "cell_type": "markdown",
      "metadata": {
        "id": "A-AqdSGojL4D"
      },
      "source": [
        "# 중첩반복구조 "
      ]
    },
    {
      "cell_type": "code",
      "metadata": {
        "colab": {
          "base_uri": "https://localhost:8080/"
        },
        "id": "rU5euB6siJtc",
        "outputId": "5a3e590a-4e09-4787-e562-75b403969127"
      },
      "source": [
        "# 정수 n을 입력받아 구구단을 계산하는 프로그램 \n",
        "n = int(input('구구단을 외자 구구단을 외자! : '))\n",
        "for i in range(1,10):\n",
        "    print(f\" {n}*{i} = {n*i}\")\n"
      ],
      "execution_count": null,
      "outputs": [
        {
          "output_type": "stream",
          "text": [
            "구구단을 외자 구구단을 외자! : 6\n",
            " 6*1 = 6\n",
            " 6*2 = 12\n",
            " 6*3 = 18\n",
            " 6*4 = 24\n",
            " 6*5 = 30\n",
            " 6*6 = 36\n",
            " 6*7 = 42\n",
            " 6*8 = 48\n",
            " 6*9 = 54\n"
          ],
          "name": "stdout"
        }
      ]
    },
    {
      "cell_type": "code",
      "metadata": {
        "colab": {
          "base_uri": "https://localhost:8080/"
        },
        "id": "i_tZLnxDmBrm",
        "outputId": "57de644a-060b-4051-a1f9-907582bdcc6f"
      },
      "source": [
        "for i in range (5):         #내부 루프와 외부루프는 동일한 제어변수를 사용해서는 안된다. \n",
        "    for j in range(3):\n",
        "        print(i,j,)         # 내부 for문을 외부 for문의 시퀀스만큼 반복한다. \n"
      ],
      "execution_count": null,
      "outputs": [
        {
          "output_type": "stream",
          "text": [
            "0 0\n",
            "0 1\n",
            "0 2\n",
            "1 0\n",
            "1 1\n",
            "1 2\n",
            "2 0\n",
            "2 1\n",
            "2 2\n",
            "3 0\n",
            "3 1\n",
            "3 2\n",
            "4 0\n",
            "4 1\n",
            "4 2\n"
          ],
          "name": "stdout"
        }
      ]
    },
    {
      "cell_type": "code",
      "metadata": {
        "colab": {
          "base_uri": "https://localhost:8080/"
        },
        "id": "g5vLWVyYm35A",
        "outputId": "d09595cf-1c2d-408c-cf82-2acdfc351f3c"
      },
      "source": [
        "#범위를 지정 ( 0값이 빠지게됨 )\n",
        "for i in range (1,5):         \n",
        "    for j in range(1,3):\n",
        "        print(i,j,)         \n"
      ],
      "execution_count": null,
      "outputs": [
        {
          "output_type": "stream",
          "text": [
            "1 1\n",
            "1 2\n",
            "2 1\n",
            "2 2\n",
            "3 1\n",
            "3 2\n",
            "4 1\n",
            "4 2\n"
          ],
          "name": "stdout"
        }
      ]
    },
    {
      "cell_type": "code",
      "metadata": {
        "colab": {
          "base_uri": "https://localhost:8080/"
        },
        "id": "aOPV_Emom-BI",
        "outputId": "1de3334f-b7f9-4507-c1ea-bff3cc2e5115"
      },
      "source": [
        "#스텝값 주기 (2씩 건너뛰기)\n",
        "for i in range (1,7,2):         \n",
        "    for j in range(1,8,3):\n",
        "        print(i,j,)         "
      ],
      "execution_count": null,
      "outputs": [
        {
          "output_type": "stream",
          "text": [
            "1 1\n",
            "1 4\n",
            "1 7\n",
            "3 1\n",
            "3 4\n",
            "3 7\n",
            "5 1\n",
            "5 4\n",
            "5 7\n"
          ],
          "name": "stdout"
        }
      ]
    },
    {
      "cell_type": "code",
      "metadata": {
        "colab": {
          "base_uri": "https://localhost:8080/"
        },
        "id": "VAE4DiE1neOn",
        "outputId": "071d8ba5-9e46-4e88-f768-ffb9c6aec087"
      },
      "source": [
        "#예제>전체 구구단 출력하기(가로)\n",
        "for i in range(2,10):\n",
        "    for j in range(1,10):\n",
        "        print(f' {i}*{j}={i*j}',end='\\t')\n",
        "    print()     #한줄바꾸기"
      ],
      "execution_count": null,
      "outputs": [
        {
          "output_type": "stream",
          "text": [
            " 2*1=2\t 2*2=4\t 2*3=6\t 2*4=8\t 2*5=10\t 2*6=12\t 2*7=14\t 2*8=16\t 2*9=18\t\n",
            " 3*1=3\t 3*2=6\t 3*3=9\t 3*4=12\t 3*5=15\t 3*6=18\t 3*7=21\t 3*8=24\t 3*9=27\t\n",
            " 4*1=4\t 4*2=8\t 4*3=12\t 4*4=16\t 4*5=20\t 4*6=24\t 4*7=28\t 4*8=32\t 4*9=36\t\n",
            " 5*1=5\t 5*2=10\t 5*3=15\t 5*4=20\t 5*5=25\t 5*6=30\t 5*7=35\t 5*8=40\t 5*9=45\t\n",
            " 6*1=6\t 6*2=12\t 6*3=18\t 6*4=24\t 6*5=30\t 6*6=36\t 6*7=42\t 6*8=48\t 6*9=54\t\n",
            " 7*1=7\t 7*2=14\t 7*3=21\t 7*4=28\t 7*5=35\t 7*6=42\t 7*7=49\t 7*8=56\t 7*9=63\t\n",
            " 8*1=8\t 8*2=16\t 8*3=24\t 8*4=32\t 8*5=40\t 8*6=48\t 8*7=56\t 8*8=64\t 8*9=72\t\n",
            " 9*1=9\t 9*2=18\t 9*3=27\t 9*4=36\t 9*5=45\t 9*6=54\t 9*7=63\t 9*8=72\t 9*9=81\t\n"
          ],
          "name": "stdout"
        }
      ]
    },
    {
      "cell_type": "code",
      "metadata": {
        "colab": {
          "base_uri": "https://localhost:8080/"
        },
        "id": "h13DPfNFpJXj",
        "outputId": "daf76850-42c1-480e-df05-4ccbed2db9a5"
      },
      "source": [
        "#예제>전체 구구단 출력하기(세로)\n",
        "for i in range(1,10):\n",
        "    for j in range(2,10):\n",
        "        print(f' {j}*{i}={i*j}',end='\\t')\n",
        "    print()     #한줄건너띄기를 해서 출력"
      ],
      "execution_count": null,
      "outputs": [
        {
          "output_type": "stream",
          "text": [
            " 2*1=2\t 3*1=3\t 4*1=4\t 5*1=5\t 6*1=6\t 7*1=7\t 8*1=8\t 9*1=9\t\n",
            " 2*2=4\t 3*2=6\t 4*2=8\t 5*2=10\t 6*2=12\t 7*2=14\t 8*2=16\t 9*2=18\t\n",
            " 2*3=6\t 3*3=9\t 4*3=12\t 5*3=15\t 6*3=18\t 7*3=21\t 8*3=24\t 9*3=27\t\n",
            " 2*4=8\t 3*4=12\t 4*4=16\t 5*4=20\t 6*4=24\t 7*4=28\t 8*4=32\t 9*4=36\t\n",
            " 2*5=10\t 3*5=15\t 4*5=20\t 5*5=25\t 6*5=30\t 7*5=35\t 8*5=40\t 9*5=45\t\n",
            " 2*6=12\t 3*6=18\t 4*6=24\t 5*6=30\t 6*6=36\t 7*6=42\t 8*6=48\t 9*6=54\t\n",
            " 2*7=14\t 3*7=21\t 4*7=28\t 5*7=35\t 6*7=42\t 7*7=49\t 8*7=56\t 9*7=63\t\n",
            " 2*8=16\t 3*8=24\t 4*8=32\t 5*8=40\t 6*8=48\t 7*8=56\t 8*8=64\t 9*8=72\t\n",
            " 2*9=18\t 3*9=27\t 4*9=36\t 5*9=45\t 6*9=54\t 7*9=63\t 8*9=72\t 9*9=81\t\n"
          ],
          "name": "stdout"
        }
      ]
    },
    {
      "cell_type": "code",
      "metadata": {
        "colab": {
          "base_uri": "https://localhost:8080/"
        },
        "id": "PXOtCEBTplJR",
        "outputId": "b354d48c-9182-4408-e5ec-8797c678a6ba"
      },
      "source": [
        "#예제>전체 구구단 출력하기(세로)_1단부터 10단까지 \n",
        "for i in range(1,11):\n",
        "    for j in range(1,11):\n",
        "        print(f' {j}*{i}={i*j}',end='\\t')\n",
        "    print()     #한줄건너띄기를 해서 출력"
      ],
      "execution_count": null,
      "outputs": [
        {
          "output_type": "stream",
          "text": [
            " 1*1=1\t 2*1=2\t 3*1=3\t 4*1=4\t 5*1=5\t 6*1=6\t 7*1=7\t 8*1=8\t 9*1=9\t 10*1=10\t\n",
            " 1*2=2\t 2*2=4\t 3*2=6\t 4*2=8\t 5*2=10\t 6*2=12\t 7*2=14\t 8*2=16\t 9*2=18\t 10*2=20\t\n",
            " 1*3=3\t 2*3=6\t 3*3=9\t 4*3=12\t 5*3=15\t 6*3=18\t 7*3=21\t 8*3=24\t 9*3=27\t 10*3=30\t\n",
            " 1*4=4\t 2*4=8\t 3*4=12\t 4*4=16\t 5*4=20\t 6*4=24\t 7*4=28\t 8*4=32\t 9*4=36\t 10*4=40\t\n",
            " 1*5=5\t 2*5=10\t 3*5=15\t 4*5=20\t 5*5=25\t 6*5=30\t 7*5=35\t 8*5=40\t 9*5=45\t 10*5=50\t\n",
            " 1*6=6\t 2*6=12\t 3*6=18\t 4*6=24\t 5*6=30\t 6*6=36\t 7*6=42\t 8*6=48\t 9*6=54\t 10*6=60\t\n",
            " 1*7=7\t 2*7=14\t 3*7=21\t 4*7=28\t 5*7=35\t 6*7=42\t 7*7=49\t 8*7=56\t 9*7=63\t 10*7=70\t\n",
            " 1*8=8\t 2*8=16\t 3*8=24\t 4*8=32\t 5*8=40\t 6*8=48\t 7*8=56\t 8*8=64\t 9*8=72\t 10*8=80\t\n",
            " 1*9=9\t 2*9=18\t 3*9=27\t 4*9=36\t 5*9=45\t 6*9=54\t 7*9=63\t 8*9=72\t 9*9=81\t 10*9=90\t\n",
            " 1*10=10\t 2*10=20\t 3*10=30\t 4*10=40\t 5*10=50\t 6*10=60\t 7*10=70\t 8*10=80\t 9*10=90\t 10*10=100\t\n"
          ],
          "name": "stdout"
        }
      ]
    },
    {
      "cell_type": "markdown",
      "metadata": {
        "id": "xwt34-8nqcpa"
      },
      "source": [
        "#break 문 : 반복에서 벗어나기 "
      ]
    },
    {
      "cell_type": "code",
      "metadata": {
        "colab": {
          "base_uri": "https://localhost:8080/"
        },
        "id": "xexM9ZMcqgUd",
        "outputId": "901c48e1-2147-4014-eaff-23e0b7f633a4"
      },
      "source": [
        "# 'I hanve a dream'에서 찾을문자를 입력받고, 해당문자를 찾으면 반복 종료 \n",
        "text = 'I am a boy, you are a girl'\n",
        "abc = input('which world? : ')\n",
        "for i in text:\n",
        "    print(i,end='')\n",
        "    if i == abc:\n",
        "        break"
      ],
      "execution_count": null,
      "outputs": [
        {
          "output_type": "stream",
          "text": [
            "which world? : g\n",
            "I am a boy, you are a g"
          ],
          "name": "stdout"
        }
      ]
    },
    {
      "cell_type": "markdown",
      "metadata": {
        "id": "k8SxW1garv-6"
      },
      "source": [
        "# 예제 > up&down 게임 \n",
        "1. 1~100 사이의 정답숫자를 랜덤으로 하나 정하고 \n",
        "2. 정답숫자를 맞출때까지 숫자를 입력\n",
        "3. 입력한 숫자가 정답보다 작으면 down, 정답보다 크면 up \n",
        "4. 그리고 숫자를 다시 입력받는다. \n",
        "5. 정답을 맞추면 '정답'이라고 출력하고 게임끝\n",
        "\n",
        "> 어떻게 풀까 \n",
        "\n",
        "1.   random함수를 import하고 randint(1,100)\n",
        "2.   while문으로 반복, 조건 -> 숫자를 못맞추는동안 반복 \n",
        "3. if ~ else 로 처리 \n",
        "4. 반복구조안에서 계속 숫자 입력받기 \n",
        "5. 반복문을 빠져나오면 ( break문 ) '정답' 출력 \n",
        "\n",
        "\n",
        "\n",
        "\n",
        "\n"
      ]
    },
    {
      "cell_type": "code",
      "metadata": {
        "colab": {
          "base_uri": "https://localhost:8080/",
          "height": 239
        },
        "id": "nENNKbJes6DL",
        "outputId": "d2a4ccd5-a092-4514-dab1-d9f553553058"
      },
      "source": [
        "#내가 해본 것 \n",
        "import random\n",
        "n = random.randint(1,100)\n",
        "while number1 != n:\n",
        "    number1=int(input(n))\n",
        "if number1 > n:\n",
        "    print('down')\n",
        "elif number1 < n:\n",
        "    print('up')\n",
        "else:\n",
        "    print(f'정답! {n}')"
      ],
      "execution_count": null,
      "outputs": [
        {
          "output_type": "error",
          "ename": "NameError",
          "evalue": "ignored",
          "traceback": [
            "\u001b[0;31m---------------------------------------------------------------------------\u001b[0m",
            "\u001b[0;31mNameError\u001b[0m                                 Traceback (most recent call last)",
            "\u001b[0;32m<ipython-input-77-69336d23d460>\u001b[0m in \u001b[0;36m<module>\u001b[0;34m()\u001b[0m\n\u001b[1;32m      2\u001b[0m \u001b[0;32mimport\u001b[0m \u001b[0mrandom\u001b[0m\u001b[0;34m\u001b[0m\u001b[0;34m\u001b[0m\u001b[0m\n\u001b[1;32m      3\u001b[0m \u001b[0mn\u001b[0m \u001b[0;34m=\u001b[0m \u001b[0mrandom\u001b[0m\u001b[0;34m.\u001b[0m\u001b[0mrandint\u001b[0m\u001b[0;34m(\u001b[0m\u001b[0;36m1\u001b[0m\u001b[0;34m,\u001b[0m\u001b[0;36m100\u001b[0m\u001b[0;34m)\u001b[0m\u001b[0;34m\u001b[0m\u001b[0;34m\u001b[0m\u001b[0m\n\u001b[0;32m----> 4\u001b[0;31m \u001b[0;32mwhile\u001b[0m \u001b[0mnumber1\u001b[0m \u001b[0;34m!=\u001b[0m \u001b[0mn\u001b[0m\u001b[0;34m:\u001b[0m\u001b[0;34m\u001b[0m\u001b[0;34m\u001b[0m\u001b[0m\n\u001b[0m\u001b[1;32m      5\u001b[0m     \u001b[0mnumber1\u001b[0m\u001b[0;34m=\u001b[0m\u001b[0mint\u001b[0m\u001b[0;34m(\u001b[0m\u001b[0minput\u001b[0m\u001b[0;34m(\u001b[0m\u001b[0mn\u001b[0m\u001b[0;34m)\u001b[0m\u001b[0;34m)\u001b[0m\u001b[0;34m\u001b[0m\u001b[0;34m\u001b[0m\u001b[0m\n\u001b[1;32m      6\u001b[0m \u001b[0;32mif\u001b[0m \u001b[0mnumber1\u001b[0m \u001b[0;34m>\u001b[0m \u001b[0mn\u001b[0m\u001b[0;34m:\u001b[0m\u001b[0;34m\u001b[0m\u001b[0;34m\u001b[0m\u001b[0m\n",
            "\u001b[0;31mNameError\u001b[0m: name 'number1' is not defined"
          ]
        }
      ]
    },
    {
      "cell_type": "code",
      "metadata": {
        "colab": {
          "base_uri": "https://localhost:8080/"
        },
        "id": "n49w3LWxxBaO",
        "outputId": "67297869-0e3c-4e95-e505-4eea05f17ddf"
      },
      "source": [
        "#동열님 코드 \n",
        "import random\n",
        "n=random.randint(1,100)\n",
        "while num!=n:\n",
        "    num=int(input('num'))\n",
        "    if num > n:\n",
        "        print('num down')\n",
        "    elif num <n:\n",
        "        print('num up')\n",
        "    else:\n",
        "        print('정답')"
      ],
      "execution_count": null,
      "outputs": [
        {
          "output_type": "stream",
          "text": [
            "num5\n",
            "num up\n",
            "num10\n",
            "num up\n",
            "num20\n",
            "num up\n",
            "num50\n",
            "num up\n",
            "num70\n",
            "num up\n",
            "num90\n",
            "num up\n",
            "num95\n",
            "num up\n",
            "num99\n",
            "num down\n",
            "num98\n",
            "num down\n",
            "num96\n",
            "num up\n",
            "num97\n",
            "collect\n"
          ],
          "name": "stdout"
        }
      ]
    }
  ]
}
